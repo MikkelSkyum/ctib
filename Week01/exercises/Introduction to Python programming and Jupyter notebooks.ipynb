{
 "cells": [
  {
   "cell_type": "markdown",
   "metadata": {},
   "source": [
    "These notes were adapted by Dan Søndergaard from the lectures notes written by Kasper Munch Terkelsen and Dan Søndergaard for the Applied Programming course at Bioinformatics Research Centre, Aarhus University."
   ]
  },
  {
   "cell_type": "markdown",
   "metadata": {},
   "source": [
    "## Hello World\n",
    "\n",
    "Dive in and run your first Python program! Simply click on the gray box below containing the code and press `Shift-Enter`. The code will now run and the output will be inserted below the box."
   ]
  },
  {
   "cell_type": "code",
   "execution_count": 26,
   "metadata": {},
   "outputs": [
    {
     "name": "stdout",
     "output_type": "stream",
     "text": [
      "Hello world\n"
     ]
    }
   ],
   "source": [
    "print(\"Hello world\")"
   ]
  },
  {
   "cell_type": "markdown",
   "metadata": {},
   "source": [
    "Seriously, what just happened? You wrote a program that is just a single line of code. Then you ran the program using Python and it wrote (printed) `Hello world` in the terminal. Do not worry about the parentheses and quotes for now and just enjoy your new life as a programmer.\n",
    "\n",
    "Now try adding another line of code like this:"
   ]
  },
  {
   "cell_type": "code",
   "execution_count": null,
   "metadata": {},
   "outputs": [],
   "source": [
    "print(\"Hello world\")\n",
    "print(\"Greetings from your first program\")"
   ]
  },
  {
   "cell_type": "markdown",
   "metadata": {},
   "source": [
    "You can run this code by selecting the box and pressing `Shift-Enter`. What do you think will happen?\n",
    "\n",
    "Your program first prints `Hello world` and *then* it prints `Greetings from your first program`. The *then*-part is important! That is how a Python program works. Python (the `python` you write in front of `hello.py`) reads your file and executes the code line by line until it reaches the end.\n",
    "\n",
    "This is important, so read that paragraph again. Now read it once more! It may seem trivial but it is absolutely fundamental to always remember that this is how Python runs your code. \n",
    "\n",
    "As an exercise, try to flip the lines in the code and run the program again. What does it show now?\n",
    "\n",
    "So why do we write `print` and not `write` or something else in our file? That actually goes all the way back to the days when computers where big clunky things with no screens attached and only interacted with the world by *printing* out things on a real physical paper printer. Back then, the output you see on the screen was actually printed onto a piece of paper that the programmer could then look at."
   ]
  },
  {
   "cell_type": "markdown",
   "metadata": {},
   "source": [
    "### Exercises"
   ]
  },
  {
   "cell_type": "markdown",
   "metadata": {},
   "source": [
    "**Exercise 1.1:**\n",
    "Add more lines of code to the program below to make it print someting else.\n",
    "Can you make your program print the same thing 10 times?"
   ]
  },
  {
   "cell_type": "code",
   "execution_count": null,
   "metadata": {},
   "outputs": [],
   "source": [
    "print(\"Hello world\")\n",
    "print(\"Greetings from your first program\")"
   ]
  },
  {
   "cell_type": "markdown",
   "metadata": {},
   "source": [
    "**Exercise 1.2:**\n",
    "Write a program (in the empty box below) that prints a greeting to yourself. For example, if your name is Thomas, make it print \"Hello Thomas\"."
   ]
  },
  {
   "cell_type": "code",
   "execution_count": null,
   "metadata": {
    "collapsed": true
   },
   "outputs": [],
   "source": []
  },
  {
   "cell_type": "markdown",
   "metadata": {},
   "source": [
    "## Error Messages"
   ]
  },
  {
   "cell_type": "markdown",
   "metadata": {},
   "source": [
    "Did you get everything just right, or did you have get an error message when you executed your code with `python`? Maybe you wrote this code - forgetting the end quote:\n",
    "\n",
    "```python\n",
    "print(\"Hello world)\n",
    "```\n",
    "\n",
    "and then got an error like this:\n",
    "\n",
    "```\n",
    "$ python hello.py\n",
    "  File \"hello.py\", line 1\n",
    "    print(\"Hello world)\n",
    "                      ^\n",
    "SyntaxError: EOL while scanning string literal\n",
    "```\n",
    "\n",
    "This is Python's way of telling you that the `hello.py` script has an error in line 1. If you write something that does not conform to the proper syntax for Python code then you will get a `SyntaxError`. Python will do its best to figure out where the problem is and point to it with a `^` character.\n",
    "\n",
    "You will see many many many such error messages in your new life as a programmer and it is important that you learn how to read them. At first they will be hard to decipher, but once you get used to them they will help you quickly identify where the problem is. If there is an error message that you do not understand the internet is your friend. Just copy-paste the error message into Googles search field, and you will see that you are not the only one out there getting started on Python programming.\n",
    "\n",
    "It is okay if you do not know how to fix the problem right now, the important thing is that you are not afraid of seeing and reading error messages like this one. "
   ]
  },
  {
   "cell_type": "markdown",
   "metadata": {},
   "source": [
    "### Exercises"
   ]
  },
  {
   "cell_type": "markdown",
   "metadata": {},
   "source": [
    "**Exercise 1.3:**\n",
    "Try to break your new shiny program (from exercise 1.2) and make it give an error message when you run it. An easy way of doing this is to remove or change random characters from the program. Which error messages do you see? Do you see the same error message every time or are they different? Try googling the error messages you get. Can you figure out why the change you made broke the program?"
   ]
  },
  {
   "cell_type": "markdown",
   "metadata": {},
   "source": [
    "## Comments"
   ]
  },
  {
   "cell_type": "markdown",
   "metadata": {},
   "source": [
    "You've already seen that Python reads and executes one line of code at a time until your program has no more lines of code (you absolutely *must* remember this).\n",
    "\n",
    "However, we can make Python disregard a line by putting a `#` symbol in front of it, like this (run the code below to see what happens):"
   ]
  },
  {
   "cell_type": "code",
   "execution_count": null,
   "metadata": {},
   "outputs": [],
   "source": [
    "# print(\"Hello world\")\n",
    "print(\"Greetings from your first program\")"
   ]
  },
  {
   "cell_type": "markdown",
   "metadata": {},
   "source": [
    "When you do that Python simply does not read that line.\n",
    "\n",
    "This is useful in two ways:\n",
    "\n",
    "1. It lets you disable certain lines of your code, by keeping Python from reading them. For example, you may want to see what happens if that line of code wasn't executed to understand what your program does.\n",
    "2. I allows you to write notes in your code Python to help you remember what you did.\n",
    "\n",
    "Lines with a `#` in front are called comments because we normally use them to write comments about the code we write. If you ask for help about some problem, you will often hear your instructor say: try to \"comment out\" line 2. When your instructor says that it simply means that you should add a `#` in front of line two to see what then happens."
   ]
  },
  {
   "cell_type": "markdown",
   "metadata": {},
   "source": [
    "### Exercises"
   ]
  },
  {
   "cell_type": "markdown",
   "metadata": {},
   "source": [
    "### FAQ - Frequently Asked Questions"
   ]
  },
  {
   "cell_type": "markdown",
   "metadata": {},
   "source": [
    "**Exercise 1.4:** \n",
    "What happens if I put a `#` in the middle of a line of code?\n",
    "Try it out!"
   ]
  },
  {
   "cell_type": "markdown",
   "metadata": {},
   "source": [
    "**Exercise 1.5:** \n",
    "Try this:"
   ]
  },
  {
   "cell_type": "code",
   "execution_count": null,
   "metadata": {},
   "outputs": [],
   "source": [
    "# Note to self: the lines below print stuff\n",
    "print(\"Hello world\")\n",
    "print(\"Greetings from your first program\")"
   ]
  },
  {
   "cell_type": "markdown",
   "metadata": {},
   "source": [
    "and this:"
   ]
  },
  {
   "cell_type": "code",
   "execution_count": null,
   "metadata": {},
   "outputs": [],
   "source": [
    "print(\"Hello world\") # actually, everything that comes after a # is ignored\n",
    "print(\"Greetings from your first program\")"
   ]
  },
  {
   "cell_type": "markdown",
   "metadata": {},
   "source": [
    "and this:"
   ]
  },
  {
   "cell_type": "code",
   "execution_count": null,
   "metadata": {},
   "outputs": [],
   "source": [
    "print(\"Hello # world\")\n",
    "print(\"Greetings from your first program\")"
   ]
  },
  {
   "cell_type": "markdown",
   "metadata": {},
   "source": [
    "Did you expect the last example to work? Why? Why not?"
   ]
  },
  {
   "cell_type": "markdown",
   "metadata": {},
   "source": [
    "## Math\n",
    "\n",
    "Much programming is done to compute stuff. In Python the usual math operations are done using these arithmetic operators:\n",
    "\n",
    "`+` plus <br>\n",
    "`-` minus <br>\n",
    "`/` division <br>\n",
    "`//` integer division <br>\n",
    "`*` multiplication <br>\n",
    "`**` exponentiation <br>\n",
    "`%` modulo (remainder)\n",
    "\n",
    "You are probably quite familiar with these - except perhaps for integer division, exponentiation and modulo, but that's okay. Let us take some of the operators for a spin."
   ]
  },
  {
   "cell_type": "code",
   "execution_count": null,
   "metadata": {},
   "outputs": [],
   "source": [
    "print(\"I have\", 25 + 30 / 6, \"of someting\")\n",
    "print(\"I have\", 100 - 25 * 3 % 4, \"of something else\")\n",
    "\n",
    "print(\"Is it true that 3 + 2 < 5 - 7?\")\n",
    "print(3 + 2.1 < 5.4 - 7)\n",
    "\n",
    "print(\"What is 3 + 2.1?\", 3 + 2.1)\n",
    "print(\"What is 5.4 - 7?\", 5.4 - 7)\n",
    "\n",
    "print(\"Oh, that's why it's False.\")"
   ]
  },
  {
   "cell_type": "markdown",
   "metadata": {},
   "source": [
    "Did you notice how you could print more than one thing at a time if you put commas between them?\n",
    "\n",
    "We can group computations using parentheses, just like in normal math:"
   ]
  },
  {
   "cell_type": "code",
   "execution_count": null,
   "metadata": {},
   "outputs": [],
   "source": [
    "print(\"What is 10 / (2 + 3)?\", 10 / (2 + 3))\n",
    "print(\"What is (10 / 2) + 3?\", (10 / 2) + 3)"
   ]
  },
  {
   "cell_type": "markdown",
   "metadata": {},
   "source": [
    "In addition to the regular math operators there are a few extra operators that we call *comparison operators* because they are used to compare two values, e.g. two numbers.\n",
    "\n",
    "`<` less-than <br>\n",
    "`>` greater-than <br>\n",
    "`<=` less-than-or-equal <br>\n",
    "`>=` greater-than-or-equal <br>\n",
    "`==` equal <br>\n",
    "`!=` not equal <br>\n",
    "\n",
    "Try this:"
   ]
  },
  {
   "cell_type": "code",
   "execution_count": null,
   "metadata": {},
   "outputs": [],
   "source": [
    "print(\"Is 5 greater than -2?\", 5 > -2)\n",
    "print(\"Is 5 greater or equal to -2?\", 5 >= -2)\n",
    "print(\"Is 5 less or equal to -2?\", 5 <= -2)\n",
    "print(\"Is 5 less than 7 - 2?\", 5 < 7 - 2)\n",
    "print(\"Is 5 equal to 7 - 2?\", 5 == 7 - 2)"
   ]
  },
  {
   "cell_type": "markdown",
   "metadata": {},
   "source": [
    "As you may have noticed above, comparing things using these operators we always get either `True` or `False` back. For example:"
   ]
  },
  {
   "cell_type": "code",
   "execution_count": null,
   "metadata": {},
   "outputs": [],
   "source": [
    "print(5 < 7)"
   ]
  },
  {
   "cell_type": "markdown",
   "metadata": {},
   "source": [
    "will print `True` because 5 is actually smaller than 7. `True` and `False` are special values in Python that we can use just like any other value:"
   ]
  },
  {
   "cell_type": "code",
   "execution_count": null,
   "metadata": {},
   "outputs": [],
   "source": [
    "print(True)\n",
    "print(False)"
   ]
  },
  {
   "cell_type": "markdown",
   "metadata": {},
   "source": [
    "### Exercises"
   ]
  },
  {
   "cell_type": "markdown",
   "metadata": {},
   "source": [
    "**Exercise 1.6:** \n",
    "Say the supermarket has chocolate bars for 2.80 kr. Write a small Python program (in the box below) that prints how many chocolate bars you can get for your 30 kr. For example, it could output something like this:\n",
    "\n",
    "```text\n",
    "I can buy 10.7142857143 chocolate bars!\n",
    "```"
   ]
  },
  {
   "cell_type": "code",
   "execution_count": null,
   "metadata": {
    "collapsed": true
   },
   "outputs": [],
   "source": []
  },
  {
   "cell_type": "markdown",
   "metadata": {},
   "source": [
    "**Exercise 1.7:** \n",
    "What happens if you try to run the following program?"
   ]
  },
  {
   "cell_type": "code",
   "execution_count": null,
   "metadata": {},
   "outputs": [],
   "source": [
    "print(\"What happens next?\", 1 / 0)"
   ]
  },
  {
   "cell_type": "markdown",
   "metadata": {},
   "source": [
    "If you get an error, why do you think you get that error?"
   ]
  },
  {
   "cell_type": "markdown",
   "metadata": {},
   "source": [
    "**Exercise 1.8:**:\n",
    "What happens if you try to run the following program?"
   ]
  },
  {
   "cell_type": "code",
   "execution_count": null,
   "metadata": {
    "collapsed": true
   },
   "outputs": [],
   "source": [
    "print(\"What happens now?\", 1 / )"
   ]
  },
  {
   "cell_type": "markdown",
   "metadata": {},
   "source": [
    "If you get an error, why do you think you get that error?"
   ]
  },
  {
   "cell_type": "markdown",
   "metadata": {},
   "source": [
    "**Exercise 1.9:** \n",
    "What happens if you try to run the following program?"
   ]
  },
  {
   "cell_type": "code",
   "execution_count": null,
   "metadata": {
    "collapsed": true
   },
   "outputs": [],
   "source": [
    "print(\"What happens now?\", 1 / 3"
   ]
  },
  {
   "cell_type": "markdown",
   "metadata": {},
   "source": [
    "If you get an error, why do you think you get that error? Can you fix it?"
   ]
  },
  {
   "cell_type": "markdown",
   "metadata": {},
   "source": [
    "**Exercise 1.10:** \n",
    "We mentioned a special operator called *modulo*. Can you figure out what it does? Google it! How about *integer division* Can you explain it to a fellow student? "
   ]
  },
  {
   "cell_type": "markdown",
   "metadata": {},
   "source": [
    "**Exercise 1.11:** \n",
    "You have probably heard of the Pythagorean theorem for computing the hypotenuse (the longest side) of a right-angled triangle. In math speak the Pythagorean theorem looks like this:\n",
    "\n",
    "$$\n",
    "a^2 + b^2 = c^2\n",
    "$$\n",
    "\n",
    "where $a$ is the length of the hypotenuse and $b$ and $c$ are the lengths of the two legs in the triangle.\n",
    "\n",
    "So if we have a triangle where $a = 5$ and $b = 2$ and we want to find $c^2$ we can do this in Python:"
   ]
  },
  {
   "cell_type": "code",
   "execution_count": 16,
   "metadata": {},
   "outputs": [
    {
     "name": "stdout",
     "output_type": "stream",
     "text": [
      "The squared length of the hypotenuse is: 29\n"
     ]
    }
   ],
   "source": [
    "print(\"The squared length of the hypotenuse is:\", 5**2 + 2**2)"
   ]
  },
  {
   "cell_type": "markdown",
   "metadata": {},
   "source": [
    "However, we're rarely interested in the *squared* length of the hypotenuse. Can you modify the code to compute $c$ instead of $c^2$?\n",
    "\n",
    "Hint: Taking the square root of a number is the same as taking that number and exponentiating it to 0.5, so the square root of $x$ is $x^{0.5}$."
   ]
  },
  {
   "cell_type": "markdown",
   "metadata": {},
   "source": [
    "## Logic"
   ]
  },
  {
   "cell_type": "markdown",
   "metadata": {},
   "source": [
    "So now you have done a lot of math and even used Python to compare two numbers. However, there's a three operators left that are special. These are the logical operators: `and`, `or` and `not`. Using these operators we can make the computer answer quite complicated questions. Go through the code below by writing the code yourself (as always!). Then try to see if you can figure out what each line does and then run the code to see what actually happens. "
   ]
  },
  {
   "cell_type": "code",
   "execution_count": null,
   "metadata": {
    "collapsed": true
   },
   "outputs": [],
   "source": [
    "print(2 < 3)\n",
    "print(10 < 12)\n",
    "print(8 > 100)\n",
    "print(2 < 3 and 10 < 12)\n",
    "print(8 > 100 and 2 < 3)\n",
    "print(8 > 100 or 2 < 3)\n",
    "print(not 8 > 100 and 2 < 3)\n",
    "print(not 8 > 100 and not 2 > 3)"
   ]
  },
  {
   "cell_type": "markdown",
   "metadata": {},
   "source": [
    "Did it do what you expected? Can you explain each line and the result? "
   ]
  },
  {
   "cell_type": "markdown",
   "metadata": {},
   "source": [
    "### Exercises"
   ]
  },
  {
   "cell_type": "markdown",
   "metadata": {},
   "source": [
    "**Exercise 1.12:** The logical operator `and` takes two values (the\n",
    "one to the left of the operator and the one to the right) and figures out whether *both* the left and the right statement is true. It actually boils down to this:\n",
    "\n",
    "| Left thing | Right thing | Result |\n",
    "| ---------- | ----------- | ------ |\n",
    "| True       | True        | True   |\n",
    "| True       | False       | False  |\n",
    "| False      | True        | False  |\n",
    "| False      | False       | False  |\n",
    "\n",
    "Try to see if you can confirm that the table above is correct using Python. For example, to test the first case, do this:"
   ]
  },
  {
   "cell_type": "code",
   "execution_count": 17,
   "metadata": {},
   "outputs": [
    {
     "name": "stdout",
     "output_type": "stream",
     "text": [
      "True\n"
     ]
    }
   ],
   "source": [
    "print(True and True)"
   ]
  },
  {
   "cell_type": "markdown",
   "metadata": {},
   "source": [
    "**Exercise 1.13:** \n",
    "Like the `and` operator, the `or` operator also takes two values. However, the `or` operator tries to figure out whether *one* of the\n",
    "two values are true. Thus, the `or` operator boils down to this:\n",
    "\n",
    "| Left thing | Right thing | Result |\n",
    "| ---------- | ----------- | ------ |\n",
    "| True       | True        | True   |\n",
    "| True       | False       | True   |\n",
    "| False      | True        | True   |\n",
    "| False      | False       | False  |\n",
    "\n",
    "Try to see if you can confirm that the table above is correct using Python. For example, to test the first case, do this:"
   ]
  },
  {
   "cell_type": "code",
   "execution_count": 18,
   "metadata": {},
   "outputs": [
    {
     "name": "stdout",
     "output_type": "stream",
     "text": [
      "True\n"
     ]
    }
   ],
   "source": [
    "print(True or True)"
   ]
  },
  {
   "cell_type": "markdown",
   "metadata": {},
   "source": [
    "## Variables and Assignment"
   ]
  },
  {
   "cell_type": "markdown",
   "metadata": {},
   "source": [
    "> **Heads up:** By now you probably feel the first signs of brain-overload. Remember to take a break when you do these exercises or your brain may overheat and explode - we have seen that happen. One of the nice things about the brain is that it works when you rest. Archiving all this new information takes time, and force-feeding your brain will not help. The last part of this chapter is very important so now might be a good time for a break.\n",
    "\n",
    "This section is about *variables*. A variable is just a way of assigning a name to some value. To demonstrate what this means we will write a small program.\n",
    "\n",
    "We'll start by writing a program that's going to compute how much you are taller than some secret stranger in percent. To do this we first need to tell the program how tall the secret stranger is:"
   ]
  },
  {
   "cell_type": "code",
   "execution_count": 27,
   "metadata": {
    "collapsed": true
   },
   "outputs": [],
   "source": [
    "height_of_stranger = 184"
   ]
  },
  {
   "cell_type": "markdown",
   "metadata": {},
   "source": [
    "What just happened? Remember that a variable is simply a name that refers to some value. In this case, the variable `height_of_stranger` refers to the strangers' height, which is 184. So the `184` is the *value* and `height_of_stranger` is the name we assigned to that value. How can we be sure that this is true? We can try to print the value of the variable."
   ]
  },
  {
   "cell_type": "code",
   "execution_count": 28,
   "metadata": {},
   "outputs": [
    {
     "name": "stdout",
     "output_type": "stream",
     "text": [
      "184\n"
     ]
    }
   ],
   "source": [
    "print(height_of_stranger)"
   ]
  },
  {
   "cell_type": "markdown",
   "metadata": {},
   "source": [
    "Luckily, we get the correct value back! You may be surprised that `height_of_stranger` exists at all since it was declared (created) in a completely different box (the one above). However, all of the code boxes in this notebook share the same \"state\". That is, we can see the entire notebook as one, big program. Don't worry if you don't understand this right now, just remember that you can access variables declared in one cell, from any other cell.\n",
    "\n",
    "Now let's make a variable that represents your own height. On a new line write the following:"
   ]
  },
  {
   "cell_type": "markdown",
   "metadata": {},
   "source": [
    "height_of_myself = ..."
   ]
  },
  {
   "cell_type": "markdown",
   "metadata": {},
   "source": [
    "You should of course type your own height instead of the three dots. Now, let us print these variables:"
   ]
  },
  {
   "cell_type": "code",
   "execution_count": null,
   "metadata": {},
   "outputs": [],
   "source": [
    "print(\"Stranger is\", height_of_stranger, \"cm high\")\n",
    "print(\"I am\", height_of_myself, \"cm high\")"
   ]
  },
  {
   "cell_type": "markdown",
   "metadata": {},
   "source": [
    "Notice how we can refer to the *values* by their *variable names*. When running the program you will see that Python has taken the value associated with each variable and inserted the *value* instead of the variable name.\n",
    "\n",
    "To reach our goal we first need to compute the height difference in years between youself and the stranger. Add this below your other code in your script:"
   ]
  },
  {
   "cell_type": "code",
   "execution_count": 29,
   "metadata": {},
   "outputs": [
    {
     "ename": "NameError",
     "evalue": "name 'height_of_myself' is not defined",
     "output_type": "error",
     "traceback": [
      "\u001b[0;31m---------------------------------------------------------------------------\u001b[0m",
      "\u001b[0;31mNameError\u001b[0m                                 Traceback (most recent call last)",
      "\u001b[0;32m<ipython-input-29-f86536a121ea>\u001b[0m in \u001b[0;36m<module>\u001b[0;34m()\u001b[0m\n\u001b[0;32m----> 1\u001b[0;31m \u001b[0mheight_difference\u001b[0m \u001b[0;34m=\u001b[0m \u001b[0mheight_of_myself\u001b[0m \u001b[0;34m-\u001b[0m \u001b[0mheight_of_stranger\u001b[0m\u001b[0;34m\u001b[0m\u001b[0m\n\u001b[0m\u001b[1;32m      2\u001b[0m \u001b[0mprint\u001b[0m\u001b[0;34m(\u001b[0m\u001b[0;34m\"I am\"\u001b[0m\u001b[0;34m,\u001b[0m \u001b[0mheight_difference\u001b[0m\u001b[0;34m,\u001b[0m \u001b[0;34m\"cm higher than the stranger\"\u001b[0m\u001b[0;34m)\u001b[0m\u001b[0;34m\u001b[0m\u001b[0m\n",
      "\u001b[0;31mNameError\u001b[0m: name 'height_of_myself' is not defined"
     ]
    }
   ],
   "source": [
    "height_difference = height_of_myself - height_of_stranger\n",
    "print(\"I am\", height_difference, \"cm higher than the stranger\")"
   ]
  },
  {
   "cell_type": "markdown",
   "metadata": {},
   "source": [
    "Notice how we can compute stuff using the variable names and then save the result in a new variable. Don't worry if you don't completely understand how this works, we will return to it very, very soon!\n",
    "\n",
    "Let's finish our program by actually computing the percentage and printing the result:"
   ]
  },
  {
   "cell_type": "code",
   "execution_count": null,
   "metadata": {
    "collapsed": true
   },
   "outputs": [],
   "source": [
    "height_difference_in_percent = height_difference / height_of_stranger * 100\n",
    "print(\"I am\", height_difference_in_percent, \"percent higher than the stranger\")"
   ]
  },
  {
   "cell_type": "markdown",
   "metadata": {},
   "source": [
    "You should now be able to run the program and see how many percent the stranger is taller than you. Of course, if you are shorter than the stranger your percentage will be negative. \n",
    "\n",
    "Although this little program is not going to cure cancer, it should have taught you what a variable is and how it can be used. Variables are extremely useful for two reasons:\n",
    "\n",
    "1. Variables give *meaning* to a value. Without the variable name, the value 184 could be anything: the number of apples you've\n",
    "got at home, how many hand-ins you have to finish this week, and so on. However, by giving the value a meaningful name, it becomes clear what the code is meant to do.\n",
    "2. We can assign new values to variables. That way we can change `height_of_dan` to reflect if he is waring shoes or not."
   ]
  },
  {
   "cell_type": "markdown",
   "metadata": {},
   "source": [
    "### Exercises"
   ]
  },
  {
   "cell_type": "markdown",
   "metadata": {},
   "source": [
    "**Exercise 1.14:** \n",
    "Run the code in the box below."
   ]
  },
  {
   "cell_type": "code",
   "execution_count": 30,
   "metadata": {},
   "outputs": [
    {
     "ename": "NameError",
     "evalue": "name 'tax_percentage' is not defined",
     "output_type": "error",
     "traceback": [
      "\u001b[0;31m---------------------------------------------------------------------------\u001b[0m",
      "\u001b[0;31mNameError\u001b[0m                                 Traceback (most recent call last)",
      "\u001b[0;32m<ipython-input-30-4cb9a80ad262>\u001b[0m in \u001b[0;36m<module>\u001b[0;34m()\u001b[0m\n\u001b[1;32m      1\u001b[0m \u001b[0mincome\u001b[0m \u001b[0;34m=\u001b[0m \u001b[0;36m45000\u001b[0m\u001b[0;34m\u001b[0m\u001b[0m\n\u001b[1;32m      2\u001b[0m \u001b[0mtaxpercentage\u001b[0m \u001b[0;34m=\u001b[0m \u001b[0;36m0.43\u001b[0m\u001b[0;34m\u001b[0m\u001b[0m\n\u001b[0;32m----> 3\u001b[0;31m \u001b[0mtax_amount\u001b[0m \u001b[0;34m=\u001b[0m \u001b[0mtax_percentage\u001b[0m \u001b[0;34m*\u001b[0m \u001b[0mincome\u001b[0m\u001b[0;34m\u001b[0m\u001b[0m\n\u001b[0m\u001b[1;32m      4\u001b[0m \u001b[0mincome_after_tax\u001b[0m \u001b[0;34m=\u001b[0m \u001b[0mincome\u001b[0m \u001b[0;34m-\u001b[0m \u001b[0mtax_amount\u001b[0m\u001b[0;34m\u001b[0m\u001b[0m\n\u001b[1;32m      5\u001b[0m \u001b[0mprint\u001b[0m\u001b[0;34m(\u001b[0m\u001b[0;34m'Income after tax is'\u001b[0m\u001b[0;34m,\u001b[0m \u001b[0mincome_after_tax\u001b[0m\u001b[0;34m)\u001b[0m\u001b[0;34m\u001b[0m\u001b[0m\n",
      "\u001b[0;31mNameError\u001b[0m: name 'tax_percentage' is not defined"
     ]
    }
   ],
   "source": [
    "income = 45000\n",
    "taxpercentage = 0.43\n",
    "tax_amount = tax_percentage * income\n",
    "income_after_tax = income - tax_amount\n",
    "print('Income after tax is', income_after_tax)"
   ]
  },
  {
   "cell_type": "markdown",
   "metadata": {},
   "source": [
    "You should get an error that looks at lot like this:\n",
    "\n",
    "```plain\n",
    "NameError                                 Traceback (most recent call last)\n",
    "<ipython-input-30-4cb9a80ad262> in <module>()\n",
    "      1 income = 45000\n",
    "      2 taxpercentage = 0.43\n",
    "----> 3 tax_amount = tax_percentage * income\n",
    "      4 income_after_tax = income - tax_amount\n",
    "      5 print('Income after tax is', income_after_tax)\n",
    "\n",
    "NameError: name 'tax_percentage' is not defined\n",
    "```\n",
    "\n",
    "It says that the error is on line 3. Can you figure out what's wrong?\n",
    "After completing this exercise, hopefully you will understand how much\n",
    "attention to detail is required when programming. Every tiny, little\n",
    "symbol and character in your code is essential."
   ]
  },
  {
   "cell_type": "markdown",
   "metadata": {},
   "source": [
    "## Statements and Expressions\n",
    "\n",
    "Distinguishing between statements and expressions will help us talk about our code.\n",
    "\n",
    "- A **statement** is a line of code that performs an action. Python evaluates each statement in turn until it reaches the end of the file.\n",
    "`print(4 + 7)` is a statement and so is `x = 14`. They each represent a full line of code and they perform an action.\n",
    " \n",
    "- An **expression** is any piece code that reduces to one value. `4 + 7` is an expression and so is `4 + 7 * 14 - x`.\n",
    "\n",
    "We will talk more about how expressions are handled by Python in the next section, but right now it is important that you understand that statements *do something* while expressions are things that can be used as a value. Hopefully, this distinction will be clearer when you have completed the exercises."
   ]
  },
  {
   "cell_type": "markdown",
   "metadata": {},
   "source": [
    "### Exercises"
   ]
  },
  {
   "cell_type": "markdown",
   "metadata": {},
   "source": [
    "**Exercise 1.15:** \n",
    "Take a look at this code:\n",
    "\n",
    "```python\n",
    "x = 5\n",
    "y = 20\n",
    "z = (x + y) / 2 + 20\n",
    "print(z * 2 + 1)\n",
    "h = 2 * x - 9 * 48\n",
    "print(h)\n",
    "```\n",
    "\n",
    "Write down the code on a piece of paper. Now mark all statements and all expressions. Talk to the person next to you. Do you agree?\n",
    "\n",
    "**Exercise 1.16:** \n",
    "Consider the following code:\n",
    "\n",
    "```python\n",
    "print(\"hello\")\n",
    "print(\"world\")\n",
    "```\n",
    "\n",
    "How many statements are there in this piece of code? How many expressions?"
   ]
  },
  {
   "cell_type": "markdown",
   "metadata": {},
   "source": [
    "## Substitution and Reduction\n",
    "\n",
    "Although *substitution* and *reduction* may not sound like you new best friends, they truly are! If you remember to think about your Python code in terms of substitution and reduction, then programming will make a lot of sense. Understanding and using these simple rules you will be able to read and understand any expression. If you do not you may get by for a while - only to find yourself in big trouble when things start to get more complicated. \n",
    "\n",
    "Consider the last line in this simple example:\n",
    "\n",
    "```python\n",
    "x = 4\n",
    "y = 3\n",
    "\n",
    "x * y + 8\n",
    "```\n",
    "\n",
    "`x` is *substituted* by the value `4` and `y` is *substituted* by the value `3`. So now the expression reads `4 * 3 + 8`. Because we multiply before we add, `4 * 3` *reduces* to `12` so that the expression now reads `12 + 8`. Finally this *reduces* to the value `20`. "
   ]
  },
  {
   "cell_type": "markdown",
   "metadata": {},
   "source": [
    "## Precedence of Operators\n",
    "\n",
    "Fear not. Precedence is just a nasty word for someting we already talked about without using the actual word. Now that you have learned about reduction, it is a good time to be a bit more explicit about this topic.\n",
    "\n",
    "Precedence simply specifies which things that are done before other things - or more correctly, which operations are performed before others. You already know that multiplication comes before addition. Another way of saying that is that multiplication *takes precedence* over addition. The expression below obviously reduces to 7 in two steps (make sure you do them in your head):\n",
    "\n",
    "$$ 1 + 3 * 2 $$\n",
    "\n",
    "If we wanted to add 1 and 3 first we would need to enforce this using parentheses:\n",
    "\n",
    "$$ (1 + 3) * 2 $$\n",
    "\n",
    "This is because multiplication operator (`*`) has a higher precedence than the addition operator (`+`). In addition to the math and comparison operators there are logical operators (`not`, `and` and `or`) that have lower precedence. Here is the list of the most common operators and their precedence:\n",
    "\n",
    "| Level   | Category            | Operators                        |\n",
    "| ------- | ------------------- | -------------------------------- |\n",
    "| Highest | exponent            | `**`                             |\n",
    "|         | positive / negative | `+x`, `-x`                       |\n",
    "|         | multiplication      | `*`, `/`, `//`, `%`              |\n",
    "|         | addition            | `+`, `-`                         |\n",
    "|         | relational          | `!=`, `==`, `<=`, `>=`, `<`, `>` |\n",
    "|         | logical             | `not`                            |\n",
    "|         | logical             | `and`                            |\n",
    "| Lowest  | logical             | `or`                             |\n",
    "\n",
    "\n",
    "### Exercises:\n",
    "\n",
    "Look at each expression below and decide if it evaluates to `True` or `False`. Then run the code and test if you were right. If not figure out why.\n",
    "\n",
    "**Exercise 1.17:**"
   ]
  },
  {
   "cell_type": "code",
   "execution_count": 31,
   "metadata": {},
   "outputs": [
    {
     "data": {
      "text/plain": [
       "True"
      ]
     },
     "execution_count": 31,
     "metadata": {},
     "output_type": "execute_result"
    }
   ],
   "source": [
    "2 + 4 * 7 == 2 + (4 * 7) "
   ]
  },
  {
   "cell_type": "markdown",
   "metadata": {},
   "source": [
    "**Exercise 1.18:**"
   ]
  },
  {
   "cell_type": "code",
   "execution_count": 40,
   "metadata": {},
   "outputs": [
    {
     "data": {
      "text/plain": [
       "True"
      ]
     },
     "execution_count": 40,
     "metadata": {},
     "output_type": "execute_result"
    }
   ],
   "source": [
    "not (2 > 4 and 3 < 6) == (not (2 > 4 and 3 < 6))"
   ]
  },
  {
   "cell_type": "markdown",
   "metadata": {},
   "source": [
    "**Exercise 1.19:**"
   ]
  },
  {
   "cell_type": "code",
   "execution_count": 41,
   "metadata": {},
   "outputs": [
    {
     "data": {
      "text/plain": [
       "True"
      ]
     },
     "execution_count": 41,
     "metadata": {},
     "output_type": "execute_result"
    }
   ],
   "source": [
    "4 > 3 and 2 < 1 or 7 > 2"
   ]
  },
  {
   "cell_type": "markdown",
   "metadata": {},
   "source": [
    "**Exercise 1.20:**"
   ]
  },
  {
   "cell_type": "code",
   "execution_count": 42,
   "metadata": {},
   "outputs": [
    {
     "data": {
      "text/plain": [
       "True"
      ]
     },
     "execution_count": 42,
     "metadata": {},
     "output_type": "execute_result"
    }
   ],
   "source": [
    "4 > 3 and (2 < 1 or 7 > 2)"
   ]
  },
  {
   "cell_type": "markdown",
   "metadata": {},
   "source": [
    "**Exercise 1.21:**"
   ]
  },
  {
   "cell_type": "code",
   "execution_count": 43,
   "metadata": {},
   "outputs": [
    {
     "data": {
      "text/plain": [
       "False"
      ]
     },
     "execution_count": 43,
     "metadata": {},
     "output_type": "execute_result"
    }
   ],
   "source": [
    "2 * 4 ** 4 + 1 == (2 * 4) ** (4 + 1)"
   ]
  },
  {
   "cell_type": "markdown",
   "metadata": {},
   "source": [
    "## Strings and formatting"
   ]
  },
  {
   "cell_type": "markdown",
   "metadata": {},
   "source": [
    "We have used strings quite a bin already, we just never used their real name. In programs text values are called *strings*. A string is simply a piece of text, but we call it a string since it's a \"string of characters\". In Python we write a string like this:"
   ]
  },
  {
   "cell_type": "code",
   "execution_count": 45,
   "metadata": {
    "collapsed": true
   },
   "outputs": [],
   "source": [
    "a_string = \"this is a string\""
   ]
  },
  {
   "cell_type": "markdown",
   "metadata": {},
   "source": [
    "or like this:"
   ]
  },
  {
   "cell_type": "code",
   "execution_count": 46,
   "metadata": {
    "collapsed": true
   },
   "outputs": [],
   "source": [
    "a_string = 'this is a string'"
   ]
  },
  {
   "cell_type": "markdown",
   "metadata": {},
   "source": [
    "That is, we take the text we wish to use in our program, and we put quotes around it. We are allowed to use either double quotes (the first example) or single quotes (the second example), but we cannot mix them:"
   ]
  },
  {
   "cell_type": "code",
   "execution_count": 48,
   "metadata": {},
   "outputs": [
    {
     "ename": "SyntaxError",
     "evalue": "EOL while scanning string literal (<ipython-input-48-c0fb055a8526>, line 1)",
     "output_type": "error",
     "traceback": [
      "\u001b[0;36m  File \u001b[0;32m\"<ipython-input-48-c0fb055a8526>\"\u001b[0;36m, line \u001b[0;32m1\u001b[0m\n\u001b[0;31m    a_string = \"this is a broken string'\u001b[0m\n\u001b[0m                                        ^\u001b[0m\n\u001b[0;31mSyntaxError\u001b[0m\u001b[0;31m:\u001b[0m EOL while scanning string literal\n"
     ]
    }
   ],
   "source": [
    "a_string = \"this is a broken string'"
   ]
  },
  {
   "cell_type": "markdown",
   "metadata": {},
   "source": [
    "Running the code above gives an error message telling you that Python cannot find the quote that was supposed to end the string (you'll see the error when you execute the code in the box).\n",
    "\n",
    "String formatting is simple but powerful technique that lets you generate pretty strings from precomputed values. You may have noticed that every time we print a floating-point number (those are the ones with decimals, remember?) a lot of decimals are shown! Not very pretty, I think. Who ever needs more than two decimals? Consider the program you wrote to compute how much older you are compared to the secret stranger. Let us pretend that you are 187 cm high. Then we get this output:\n",
    "\n",
    "```\n",
    "The stranger is 184 cm tall\n",
    "I am 187 cm high\n",
    "I am 3 cm higher than the stranger\n",
    "I am 1.6304347826086956 percent higher than the stranger\n",
    "```\n",
    "\n",
    "With formatting we can tell Python how many decimals we want to see. Try changing the last line in the program to this:"
   ]
  },
  {
   "cell_type": "code",
   "execution_count": null,
   "metadata": {},
   "outputs": [],
   "source": [
    "print(\"I am {:.2f} percent taller than the stranger\".format(height_difference_in_percent))"
   ]
  },
  {
   "cell_type": "markdown",
   "metadata": {},
   "source": [
    "I know, it looks weird, but run the box above and see what happens."
   ]
  },
  {
   "cell_type": "markdown",
   "metadata": {},
   "source": [
    "What just happened? Let's break it into smaller parts. First, there's this weird looking thing:\n",
    "\n",
    "```python\n",
    "\"I am {:.2f} percent taller than the stranger\"\n",
    "```\n",
    "\n",
    "It is just a string, but the special magic with braces (`{` and `}`) allow us to use it as a *format string*. The braces mark the position in the text where we want to *insert* some value. Try to change the last line in the script to this:\n",
    "\n",
    "```python\n",
    "print(\"I am {} percent higher than Dan\".format(height_difference_in_percent))\n",
    "```\n",
    "\n",
    "So now we just have the braces telling Python to insert some value at that position in the text. When we run the program, we get this:\n",
    "\n",
    "```\n",
    "I am 1.6304347826086956 percent higher than the stranger\n",
    "```\n",
    "\n",
    "So you can see that without anything but the braces the value is inserted in the string as it would otherwise be printed. Python just knows that it should insert the value at that position, but we have told it to format the value in any special way.\n",
    "\n",
    "Change the last line back to this:\n",
    "\n",
    "```python\n",
    "print(\"I am {:.2f} percent taller than the stranger\".format(height_difference_in_percent))\n",
    "```\n",
    "\n",
    "What happens if you change the number 2 to 3, 4, 5, 10? You'll notice that this changes how the value is formatted, that's why we call it a format string. \n",
    "\n",
    "Now let's focus on the other part of this line of code, which is the `.format(height_difference_in_percent)`. This tells Python which values should be inserted into the format string. To get a good understanding of this, go through these examples one-by-one and try to understand what each line does and why. Remember to type in the code yourself:"
   ]
  },
  {
   "cell_type": "code",
   "execution_count": 51,
   "metadata": {},
   "outputs": [
    {
     "name": "stdout",
     "output_type": "stream",
     "text": [
      "1...2...3\n",
      "little...red...bird\n",
      "True...False...True\n",
      "Satellite in my eyes...Like a diamond in the sky...How I wonder\n",
      "0.3333333333333333 of the students were boys, 0.6666666666666666 were girls.\n",
      "0.33 of the students were boys, 0.67 were girls.\n",
      "This\n",
      "is\n",
      "broken\n",
      "over\n",
      "multiple\n",
      "lines\n"
     ]
    }
   ],
   "source": [
    "our_format_string = \"{}...{}...{}\"\n",
    "\n",
    "format_with_numbers = our_format_string.format(1, 2, 3)\n",
    "print(format_with_numbers)\n",
    "\n",
    "format_with_text = our_format_string.format(\"little\", \"red\", \"bird\")\n",
    "print(format_with_text)\n",
    "\n",
    "format_with_true_and_false = our_format_string.format(True, False, True)\n",
    "print(format_with_true_and_false)\n",
    "\n",
    "format_with_long_text = our_format_string.format(\n",
    "    \"Satellite in my eyes\",\n",
    "    \"Like a diamond in the sky\",\n",
    "    \"How I wonder\"\n",
    ")\n",
    "print(format_with_long_text)\n",
    "\n",
    "print(\"{} of the students were boys, {} were girls.\".format(1 / 3, 2 / 3))\n",
    "print(\"{:.2f} of the students were boys, {:.2f} were girls.\".format(1 / 3, 2 / 3))\n",
    "\n",
    "print(\"This\\nis\\nbroken\\nover\\nmultiple\\nlines\")"
   ]
  },
  {
   "cell_type": "markdown",
   "metadata": {},
   "source": [
    "Can you figure out what the weird `\\n` thing does in the last line?"
   ]
  },
  {
   "cell_type": "markdown",
   "metadata": {},
   "source": [
    "### Exercises"
   ]
  },
  {
   "cell_type": "markdown",
   "metadata": {},
   "source": [
    "**Exercise 1.22:** Consider this code:"
   ]
  },
  {
   "cell_type": "code",
   "execution_count": null,
   "metadata": {
    "collapsed": true
   },
   "outputs": [],
   "source": [
    "s = \"{} is larger than {}\".format(4, 3)\n",
    "print(s)"
   ]
  },
  {
   "cell_type": "markdown",
   "metadata": {},
   "source": [
    "What will happen if you run this code?"
   ]
  },
  {
   "cell_type": "markdown",
   "metadata": {},
   "source": [
    "**Exercise 1.23:** Consider this code:"
   ]
  },
  {
   "cell_type": "code",
   "execution_count": null,
   "metadata": {
    "collapsed": true
   },
   "outputs": [],
   "source": [
    "language = 'Python'\n",
    "invention = 'sliced bread'\n",
    "s = '{} is the best thing since {}'.format(language, invention)\n",
    "print(s)"
   ]
  },
  {
   "cell_type": "markdown",
   "metadata": {},
   "source": [
    "What will happen if you run this code? Write the code and see for yourself once you think you know. If you were wrong, make sure you understand why."
   ]
  },
  {
   "cell_type": "markdown",
   "metadata": {},
   "source": [
    "**Exercise 1.24:** Consider this code:"
   ]
  },
  {
   "cell_type": "markdown",
   "metadata": {},
   "source": [
    "my_template = '{} is the best thing since {}'\n",
    "language = 'Python'\n",
    "print(my_template.format(language, 'sliced bread'))\n",
    "print(my_template.format(language, 1900 + 89))\n",
    "```\n",
    "What will happen if you run this code?"
   ]
  },
  {
   "cell_type": "markdown",
   "metadata": {},
   "source": [
    "**Exercise 1.25:** \n",
    "Comparison operators also work with strings. Consider this code:"
   ]
  },
  {
   "cell_type": "code",
   "execution_count": 53,
   "metadata": {},
   "outputs": [
    {
     "name": "stdout",
     "output_type": "stream",
     "text": [
      "False\n"
     ]
    }
   ],
   "source": [
    "print(\"apples\" == \"pears\")"
   ]
  },
  {
   "cell_type": "markdown",
   "metadata": {},
   "source": [
    "What is printed here? Write the code and see for yourself once you think you know. If you were wrong, make sure you understand why."
   ]
  },
  {
   "cell_type": "markdown",
   "metadata": {},
   "source": [
    "**Exercise 1.26:** Consider this code:"
   ]
  },
  {
   "cell_type": "code",
   "execution_count": null,
   "metadata": {
    "collapsed": true
   },
   "outputs": [],
   "source": [
    "print('bananas' > 'one banana')"
   ]
  },
  {
   "cell_type": "markdown",
   "metadata": {},
   "source": [
    "What is printed here? Write the code and see for yourself once you think you know. If you were wrong, make sure you understand why."
   ]
  },
  {
   "cell_type": "markdown",
   "metadata": {},
   "source": [
    "**Exercise 1.27:** Consider this code:"
   ]
  },
  {
   "cell_type": "code",
   "execution_count": null,
   "metadata": {
    "collapsed": true
   },
   "outputs": [],
   "source": [
    "print('banana' < 'Banana')"
   ]
  },
  {
   "cell_type": "markdown",
   "metadata": {},
   "source": [
    "What is printed here? Write the code and see for yourself once you think you know. If you were wrong, make sure you understand why."
   ]
  }
 ],
 "metadata": {
  "kernelspec": {
   "display_name": "Python 3",
   "language": "python",
   "name": "python3"
  },
  "language_info": {
   "codemirror_mode": {
    "name": "ipython",
    "version": 3
   },
   "file_extension": ".py",
   "mimetype": "text/x-python",
   "name": "python",
   "nbconvert_exporter": "python",
   "pygments_lexer": "ipython3",
   "version": "3.6.2"
  }
 },
 "nbformat": 4,
 "nbformat_minor": 2
}
