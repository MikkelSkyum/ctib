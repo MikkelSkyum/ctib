{
 "cells": [
  {
   "cell_type": "markdown",
   "metadata": {},
   "source": [
    "# Branching and looping\n",
    "\n",
    "The following exercises tests that you have understood how to implement branching and looping constructions after reading chapters 2 and 3 of *Introduction to Computation and Programming Using Python*.\n",
    "\n",
    "## Exercise 1\n",
    "\n",
    "Write at program that examines three variables, `x`, `y`, and `z`, and print the largest that is odd. If none of them are odd, print \"None\" instead."
   ]
  },
  {
   "cell_type": "code",
   "execution_count": null,
   "metadata": {
    "collapsed": true
   },
   "outputs": [],
   "source": [
    "x, y, z = 3, 5, 6\n",
    "\n",
    "# insert your program here. The largest odd number is y, so you should print 5.\n",
    "\n",
    "x, y, z = 4, 6, 8\n",
    "\n",
    "# insert your program here. There are no odd numbers, so you should print \"None\".\n",
    "\n",
    "# Add more tests, so you check that the program will print the right value,\n",
    "# both when it is x, y, and z.\n"
   ]
  },
  {
   "cell_type": "markdown",
   "metadata": {},
   "source": [
    "## Exercise 2\n",
    "\n",
    "Replace the comment in the code below with a `while` loop that iterates `numXs` times and concatenate the letter `'X'` to the variable `numXs` that number of times. Remember that `+` on two strings means concatenate and that you can use `toPrint += 'X'` to concatenate `'X'` to `toPrint`."
   ]
  },
  {
   "cell_type": "code",
   "execution_count": null,
   "metadata": {},
   "outputs": [],
   "source": [
    "numXs = int(input('How many times should I print the letter X? '))\n",
    "toPrint = ''\n",
    "# concatenate 'X' to toPrint numXs times\n",
    "print(toPrint)"
   ]
  },
  {
   "cell_type": "markdown",
   "metadata": {},
   "source": [
    "Redo the exercise but use a `for` loop instead of a `while` loop."
   ]
  },
  {
   "cell_type": "code",
   "execution_count": null,
   "metadata": {
    "collapsed": true
   },
   "outputs": [],
   "source": [
    "numXs = int(input('How many times should I print the letter X? '))\n",
    "toPrint = ''\n",
    "# concatenate 'X' to toPrint numXs times\n",
    "print(toPrint)"
   ]
  },
  {
   "cell_type": "markdown",
   "metadata": {},
   "source": [
    "## Exercise 3\n",
    "\n",
    "Write a program that asks the user to input 10 integers and then print the largest odd number, or \"None\", if there are no odd numbers. The construction `float(\"-inf\")` returns a value that represent minus infinity. This is the smallest possible value, and not an integer that the user can input, so you can use this value as the default and compare it with any of the number the user provides and update it if the user provide an odd number that is larger."
   ]
  },
  {
   "cell_type": "code",
   "execution_count": null,
   "metadata": {},
   "outputs": [],
   "source": [
    "result = float(\"-inf\")\n",
    "# Write a loop that asks for a number 10 times\n",
    "# If a number is odd and larger than the current `result`\n",
    "# then update `result` to that number\n",
    "\n",
    "if result == float(\"-inf\"):\n",
    "    print(\"None\")\n",
    "else:\n",
    "    print(result)"
   ]
  },
  {
   "cell_type": "markdown",
   "metadata": {},
   "source": [
    "## Exercise 4\n",
    "\n",
    "Write a program that asks the user for a positive integer, `n`, and output two numbers, `root` and `pwr`, such that `0 <= pwr < 6` and `root` is the smallest number such that `root ** pwr == n`. There will always be such a number, since `n ** 1 == n`, but we want the *smallest* `root` that satisfy this."
   ]
  },
  {
   "cell_type": "code",
   "execution_count": null,
   "metadata": {},
   "outputs": [],
   "source": [
    "n = int(input('Give me a positive integer, please '))\n",
    "\n",
    "# explore possible values for `root` and `pwr` in nested loops and `break` when you find\n",
    "# a solution to `root ** pwr == n`.\n",
    "\n",
    "print('root is', root, 'and pwr is', pwr)"
   ]
  }
 ],
 "metadata": {
  "kernelspec": {
   "display_name": "Python 3",
   "language": "python",
   "name": "python3"
  },
  "language_info": {
   "codemirror_mode": {
    "name": "ipython",
    "version": 3
   },
   "file_extension": ".py",
   "mimetype": "text/x-python",
   "name": "python",
   "nbconvert_exporter": "python",
   "pygments_lexer": "ipython3",
   "version": "3.5.2"
  }
 },
 "nbformat": 4,
 "nbformat_minor": 2
}
