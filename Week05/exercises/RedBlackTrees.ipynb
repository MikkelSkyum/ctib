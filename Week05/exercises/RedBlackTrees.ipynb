{
 "cells": [
  {
   "cell_type": "markdown",
   "metadata": {},
   "source": [
    "# Red-black search trees\n",
    "\n",
    "In this notebook we will explore search trees. We will work from the implementation in the search tree note, but ignore the `delete` function."
   ]
  },
  {
   "cell_type": "code",
   "execution_count": 1,
   "metadata": {
    "collapsed": true
   },
   "outputs": [],
   "source": [
    "class TreeNode:\n",
    "    def __init__(self, value, left = None, right = None):\n",
    "        self.value = value\n",
    "        self.left = left\n",
    "        self.right = right\n",
    "        \n",
    "def display_tree(tree):\n",
    "    if tree is None:\n",
    "        return \"\"\n",
    "    if tree.left is None and tree.right is None:\n",
    "        return str(tree.value)\n",
    "    \n",
    "    if tree.left is None:\n",
    "        subtree = \"({right})\".format(right = display_tree(tree.right))\n",
    "    elif tree.right is None:\n",
    "        subtree = \"({left})\".format(left = display_tree(tree.left))\n",
    "    else:\n",
    "        subtree = \"({left},{right})\".format(left = display_tree(tree.left),\n",
    "                                            right = display_tree(tree.right))\n",
    "    return \"{subtree}{value}\".format(subtree = subtree, value = tree.value)\n",
    "\n",
    "def insert(tree, value):\n",
    "    if tree is None:\n",
    "        return TreeNode(value)\n",
    "    else:\n",
    "        if tree.value == value:\n",
    "            return tree\n",
    "        elif tree.value < value:\n",
    "            return TreeNode(tree.value, tree.left, insert(tree.right, value))\n",
    "        else:\n",
    "            return TreeNode(tree.value, insert(tree.left, value), tree.right)\n",
    "        \n",
    "def member(tree, value):\n",
    "    if tree is None:\n",
    "        return False\n",
    "    if tree.value == value:\n",
    "        return True\n",
    "    if tree.value < value:\n",
    "        return member(tree.right, value)\n",
    "    else:\n",
    "        return member(tree.left, value)"
   ]
  },
  {
   "cell_type": "code",
   "execution_count": 2,
   "metadata": {},
   "outputs": [
    {
     "name": "stdout",
     "output_type": "stream",
     "text": [
      "(((((((((9)8)7)6)5)4)3)2)1)0\n"
     ]
    }
   ],
   "source": [
    "tree = None\n",
    "for i in range(10):\n",
    "    tree = insert(tree, i)\n",
    "print(display_tree(tree))"
   ]
  },
  {
   "cell_type": "markdown",
   "metadata": {},
   "source": [
    "The time it takes to do `insert` and `member` operations depend on the size and the shape of a search tree. In the worst case, both will have to traverse the longest path from root to a leaf. How long this path is, depends on how the tree was constructed--in particular it depends on the order in which we inserted elements. We can observe this if we consider two different approaches to building trees over the same sequence of elements, one that inserts the element in increasing order, and one that inserts them in a random order"
   ]
  },
  {
   "cell_type": "code",
   "execution_count": 3,
   "metadata": {},
   "outputs": [],
   "source": [
    "def tree_depth(tree):\n",
    "    if tree is None:\n",
    "        return 0\n",
    "    return 1 + max(tree_depth(tree.left), tree_depth(tree.right))\n",
    "\n",
    "def build_tree(values):\n",
    "    tree = None\n",
    "    for v in values:\n",
    "        tree = insert(tree, v)\n",
    "    return tree\n",
    "\n",
    "def sequential_tree_size(n):\n",
    "    return tree_depth(build_tree(range(n)))\n",
    "\n",
    "from numpy.random import permutation\n",
    "def random_tree_size(n):\n",
    "    return tree_depth(build_tree(permutation(n)))"
   ]
  },
  {
   "cell_type": "code",
   "execution_count": 4,
   "metadata": {},
   "outputs": [
    {
     "data": {
      "text/plain": [
       "<matplotlib.legend.Legend at 0x1005c5e10>"
      ]
     },
     "execution_count": 4,
     "metadata": {},
     "output_type": "execute_result"
    },
    {
     "data": {
      "image/png": "[encoded data removed]",
      "text/plain": [
       "<matplotlib.figure.Figure at 0x104753eb8>"
      ]
     },
     "metadata": {},
     "output_type": "display_data"
    }
   ],
   "source": [
    "%matplotlib inline\n",
    "import matplotlib.pyplot as plt\n",
    "\n",
    "ns = list(range(10,110,5))\n",
    "\n",
    "fig, ax = plt.subplots()\n",
    "ax.plot(ns, [sequential_tree_size(n) for n in ns], label = \"Inserted in order\")\n",
    "ax.plot(ns, [random_tree_size(n) for n in ns], label = \"Inserted in permuted order\")\n",
    "ax.legend(loc='upper left')"
   ]
  },
  {
   "cell_type": "markdown",
   "metadata": {},
   "source": [
    "When we insert the elements in sorted order, we get a maximally unbalanced tree. Each new element has to be inserted as the rightmost element in the new tree, and the result is a tree that consists of one long chain of nodes going to the right. If we inserted elements in the reverse order, we would get a similar tree that was left-heavy instead.\n",
    "\n",
    "If we insert elements in random order, we alleviate this problem. We will, in fact, expect to get a reasonably balanced tree. Since a balanced tree of size $n$ has a depth in $O(\\log n)$, the `insert` and `member` operations are much faster for balanced trees. Of course, since the actual depth depends on the random permutation, and since the $\\log n$ optimal depth is only achieved for perfectly balanced trees, we expect the depth to be slightly higher than $\\log n$, but our goals for this notebook is to implement a version of search trees that has worst-case depth between $\\log n$ and $2\\lceil\\log(n)\\rceil$."
   ]
  },
  {
   "cell_type": "code",
   "execution_count": 5,
   "metadata": {},
   "outputs": [
    {
     "data": {
      "text/plain": [
       "<matplotlib.legend.Legend at 0x1105b12e8>"
      ]
     },
     "execution_count": 5,
     "metadata": {},
     "output_type": "execute_result"
    },
    {
     "data": {
      "image/png": "[encoded data removed]",
      "text/plain": [
       "<matplotlib.figure.Figure at 0x10400f978>"
      ]
     },
     "metadata": {},
     "output_type": "display_data"
    }
   ],
   "source": [
    "%matplotlib inline\n",
    "import matplotlib.pyplot as plt\n",
    "from math import log, ceil\n",
    "\n",
    "ns = list(range(10,110,5))\n",
    "\n",
    "fig, ax = plt.subplots()\n",
    "ax.plot(ns, [log(n) for n in ns], label = r\"$\\log(n)$\")\n",
    "ax.plot(ns, [2*ceil(log(n)) for n in ns], label = r\"$2\\lceil\\log(n)\\rceil$\")\n",
    "ax.plot(ns, [random_tree_size(n) for n in ns], label = \"Inserted in permuted order\")\n",
    "ax.legend(loc='upper left')"
   ]
  },
  {
   "cell_type": "markdown",
   "metadata": {},
   "source": [
    "## Red-black search trees\n",
    "\n"
   ]
  },
  {
   "cell_type": "code",
   "execution_count": 6,
   "metadata": {
    "collapsed": true
   },
   "outputs": [],
   "source": [
    "RED = 0\n",
    "BLACK = 1\n",
    "\n",
    "class TreeNode:\n",
    "    def __init__(self, value, colour = RED, left = None, right = None):\n",
    "        self.value = value\n",
    "        self.colour = colour\n",
    "        self.left = left\n",
    "        self.right = right\n",
    "\n",
    "def insert_recursion(tree, value):\n",
    "    if tree is None:\n",
    "        return TreeNode(value)\n",
    "    else:\n",
    "        if tree.value == value:\n",
    "            return tree\n",
    "        elif tree.value < value:\n",
    "            return rebalance(TreeNode(tree.value, tree.colour, tree.left, insert_recursion(tree.right, value)))\n",
    "        else:\n",
    "            return rebalance(TreeNode(tree.value, tree.colour, insert_recursion(tree.left, value), tree.right))\n",
    "\n",
    "def insert(tree, value):\n",
    "    tree = insert_recursion(tree, value)\n",
    "    tree.colour = BLACK\n",
    "    return tree"
   ]
  },
  {
   "cell_type": "markdown",
   "metadata": {},
   "source": [
    "![](figures/RBT-transformations.png)"
   ]
  },
  {
   "cell_type": "code",
   "execution_count": 7,
   "metadata": {
    "collapsed": true
   },
   "outputs": [],
   "source": [
    "def rebalance(tree):\n",
    "    is_match, a, b, c, d, x, y, z = match_tree_pattern(tree)\n",
    "    if is_match:\n",
    "        return TreeNode(y, colour = RED, \n",
    "                        left = TreeNode(x, colour = BLACK, left = a, right = b),\n",
    "                        right = TreeNode(z, colour = BLACK, left = c, right = d))\n",
    "    else:\n",
    "        return tree"
   ]
  },
  {
   "cell_type": "code",
   "execution_count": 8,
   "metadata": {
    "collapsed": true
   },
   "outputs": [],
   "source": [
    "def match_tree_pattern(tree):\n",
    "    if tree is not None and tree.left is not None and tree.left.right is not None and \\\n",
    "        tree.colour == BLACK and tree.left.colour == RED and tree.left.right.colour == RED:\n",
    "            x, y, z = tree.left.value, tree.value, tree.left.right.value\n",
    "            a, b = tree.left.left, tree.left.right.left\n",
    "            c, d = tree.left.right.left, tree.right\n",
    "            return True, a, b, c, d, x, y, z\n",
    "        \n",
    "    # Implement the other three matches\n",
    "    \n",
    "    return False, None, None, None, None, None, None, None\n",
    "\n",
    "\n",
    "def match_tree_pattern(tree):\n",
    "    if tree is not None and tree.left is not None and tree.left.right is not None and \\\n",
    "        tree.colour == BLACK and tree.left.colour == RED and tree.left.right.colour == RED:\n",
    "            x, y, z = tree.left.value, tree.value, tree.left.right.value\n",
    "            a, b = tree.left.left, tree.left.right.left\n",
    "            c, d = tree.left.right.left, tree.right\n",
    "            return True, a, b, c, d, x, y, z\n",
    "        \n",
    "    if tree is not None and tree.left is not None and tree.left.left is not None and \\\n",
    "        tree.colour == BLACK and tree.left.colour == RED and tree.left.left.colour == RED:\n",
    "            x, y, z = tree.left.left.value, tree.left.value, tree.value\n",
    "            a, b = tree.left.left.left, tree.left.left.right\n",
    "            c, d = tree.left.right, tree.right\n",
    "            return True, a, b, c, d, x, y, z\n",
    "\n",
    "    if tree is not None and tree.right is not None and tree.right.right is not None and \\\n",
    "        tree.colour == BLACK and tree.right.colour == RED and tree.right.right.colour == RED:\n",
    "            x, y, z = tree.value, tree.right.value, tree.right.right.value\n",
    "            a, b = tree.left, tree.right.left\n",
    "            c, d = tree.right.right.left, tree.right.right.right\n",
    "            return True, a, b, c, d, x, y, z\n",
    "\n",
    "    if tree is not None and tree.right is not None and tree.right.left is not None and \\\n",
    "        tree.colour == BLACK and tree.right.colour == RED and tree.right.left.colour == RED:\n",
    "            x, y, z = tree.value, tree.right.value, tree.right.left.value\n",
    "            a, b = tree.left, tree.right.left.left\n",
    "            c, d = tree.right.left.right, tree.right.right\n",
    "            return True, a, b, c, d, x, y, z\n",
    "\n",
    "    return False, None, None, None, None, None, None, None"
   ]
  },
  {
   "cell_type": "code",
   "execution_count": 9,
   "metadata": {},
   "outputs": [
    {
     "name": "stdout",
     "output_type": "stream",
     "text": [
      "5 is missing from (((0,2)1,3)4,((8)5,7)9)6\n",
      "3 is missing from (((0,2)1,3)4,((8)5,7)9)6\n",
      "7 is missing from (((0,2)1,3)4,((8)5,7)9)6\n"
     ]
    }
   ],
   "source": [
    "ns = permutation(10)\n",
    "tree = None\n",
    "for n in ns:\n",
    "    tree = insert(tree, n)\n",
    "for n in ns:\n",
    "    if not member(tree, n):\n",
    "        print(n, \"is missing from\", display_tree(tree))"
   ]
  },
  {
   "cell_type": "code",
   "execution_count": 10,
   "metadata": {},
   "outputs": [
    {
     "data": {
      "text/plain": [
       "<matplotlib.legend.Legend at 0x110b939b0>"
      ]
     },
     "execution_count": 10,
     "metadata": {},
     "output_type": "execute_result"
    },
    {
     "data": {
      "image/png": "[encoded data removed]",
      "text/plain": [
       "<matplotlib.figure.Figure at 0x11064bf98>"
      ]
     },
     "metadata": {},
     "output_type": "display_data"
    }
   ],
   "source": [
    "%matplotlib inline\n",
    "import matplotlib.pyplot as plt\n",
    "from math import log, ceil\n",
    "\n",
    "ns = list(range(10,110,5))\n",
    "\n",
    "fig, ax = plt.subplots()\n",
    "ax.plot(ns, [2*ceil(log(n)) for n in ns], label = r\"$2\\lceil\\log(n)\\rceil$\")\n",
    "ax.plot(ns, [sequential_tree_size(n) for n in ns], label = \"Order\")\n",
    "ax.plot(ns, [random_tree_size(n) for n in ns], label = \"Permuted\")\n",
    "ax.legend(loc='upper left')"
   ]
  },
  {
   "cell_type": "code",
   "execution_count": null,
   "metadata": {
    "collapsed": true
   },
   "outputs": [],
   "source": []
  },
  {
   "cell_type": "code",
   "execution_count": null,
   "metadata": {
    "collapsed": true
   },
   "outputs": [],
   "source": []
  }
 ],
 "metadata": {
  "kernelspec": {
   "display_name": "Python 3",
   "language": "python",
   "name": "python3"
  },
  "language_info": {
   "codemirror_mode": {
    "name": "ipython",
    "version": 3
   },
   "file_extension": ".py",
   "mimetype": "text/x-python",
   "name": "python",
   "nbconvert_exporter": "python",
   "pygments_lexer": "ipython3",
   "version": "3.5.2"
  }
 },
 "nbformat": 4,
 "nbformat_minor": 2
}
