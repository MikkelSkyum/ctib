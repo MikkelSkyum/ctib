{
 "cells": [
  {
   "cell_type": "markdown",
   "metadata": {},
   "source": [
    "# Working with functions\n",
    "\n",
    "Chapter 4 of JVG describes how to define functions. This Notebook will assume that you have read this chapter and give you some exercises to test your knowledge.\n",
    "\n"
   ]
  },
  {
   "cell_type": "markdown",
   "metadata": {},
   "source": [
    "## Exercise 1\n",
    "\n",
    "Write a function, `isIn`, that, given two strings as input, returns `True` is one is a substring of the other.\n",
    "\n",
    "You can check if a string is a subset of another using the `in` operator:"
   ]
  },
  {
   "cell_type": "code",
   "execution_count": 4,
   "metadata": {},
   "outputs": [
    {
     "name": "stdout",
     "output_type": "stream",
     "text": [
      "x is in y: True\n",
      "y is in x: False\n"
     ]
    }
   ],
   "source": [
    "x = 'foo'\n",
    "y = 'foobar'\n",
    "print('x is in y:', x in y)\n",
    "print('y is in x:', y in x)"
   ]
  },
  {
   "cell_type": "code",
   "execution_count": 5,
   "metadata": {},
   "outputs": [
    {
     "name": "stdout",
     "output_type": "stream",
     "text": [
      "x is in y: None\n",
      "y is in x: None\n"
     ]
    }
   ],
   "source": [
    "def isIn(x, y):\n",
    "    # replace 'pass' with the test\n",
    "    pass\n",
    "\n",
    "print('x is in y:', isIn(x, y))\n",
    "print('y is in x:', isIn(y, x))"
   ]
  },
  {
   "cell_type": "markdown",
   "metadata": {},
   "source": [
    "Remember that you need to explicitly `return` a value. If you do not use the `return` keyword, the result of a function call will be `None`."
   ]
  },
  {
   "cell_type": "code",
   "execution_count": null,
   "metadata": {
    "collapsed": true
   },
   "outputs": [],
   "source": []
  }
 ],
 "metadata": {
  "kernelspec": {
   "display_name": "Python 3",
   "language": "python",
   "name": "python3"
  },
  "language_info": {
   "codemirror_mode": {
    "name": "ipython",
    "version": 3
   },
   "file_extension": ".py",
   "mimetype": "text/x-python",
   "name": "python",
   "nbconvert_exporter": "python",
   "pygments_lexer": "ipython3",
   "version": "3.5.2"
  }
 },
 "nbformat": 4,
 "nbformat_minor": 2
}
