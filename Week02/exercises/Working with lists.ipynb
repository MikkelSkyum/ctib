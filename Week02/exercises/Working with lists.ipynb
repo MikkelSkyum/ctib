{
 "cells": [
  {
   "cell_type": "markdown",
   "metadata": {},
   "source": [
    "# Working with lists\n",
    "\n",
    "Lists are representations of ordered sequences of elements. There are several ways to define a list. We can explicitly list its elements as comma separated values inside square brackets:"
   ]
  },
  {
   "cell_type": "code",
   "execution_count": null,
   "metadata": {},
   "outputs": [],
   "source": [
    "x = [1, 5, 8]\n",
    "print(x)"
   ]
  },
  {
   "cell_type": "markdown",
   "metadata": {},
   "source": [
    "We can also construct lists using the `range` function. The `range` function itself doesn't produce a list, though, but a so-called generator or iterator that you can use with a `for` loop or that you can translate into a list using the `list` function."
   ]
  },
  {
   "cell_type": "code",
   "execution_count": null,
   "metadata": {},
   "outputs": [],
   "source": [
    "x = range(5)\n",
    "print(x)\n",
    "x = list(x)\n",
    "print(x)"
   ]
  },
  {
   "cell_type": "markdown",
   "metadata": {},
   "source": [
    "If we call this function with a single number, we get the range from zero to that number. If we call it with two numbers, we get the range from the first number to the second. If we call it with three numbers, we get the number in the range from the first to the second in steps of the third.\n",
    "\n",
    "The following code will produce a list of the numbers from 0 to 5, but while it includes the first number it doesn't include the last number, so the list only goes to 4."
   ]
  },
  {
   "cell_type": "code",
   "execution_count": null,
   "metadata": {},
   "outputs": [],
   "source": [
    "x = list(range(5))\n",
    "print(x)"
   ]
  },
  {
   "cell_type": "markdown",
   "metadata": {},
   "source": [
    "We can start the list at another number by providing that as the first argument to `range`."
   ]
  },
  {
   "cell_type": "code",
   "execution_count": null,
   "metadata": {},
   "outputs": [],
   "source": [
    "x = list(range(2, 5))\n",
    "print(x)"
   ]
  },
  {
   "cell_type": "markdown",
   "metadata": {},
   "source": [
    "You might attempt to make a list that goes from zero to a negative number. This, however, will not work since the default is to increase from zero to the input number in steps of one, and size zero is already larger than any negative number, the result will simply be an empty list."
   ]
  },
  {
   "cell_type": "code",
   "execution_count": null,
   "metadata": {},
   "outputs": [],
   "source": [
    "x = list(range(-5))\n",
    "print(x)"
   ]
  },
  {
   "cell_type": "markdown",
   "metadata": {},
   "source": [
    "To take negative steps, you must provide a third argument that is the step size."
   ]
  },
  {
   "cell_type": "code",
   "execution_count": null,
   "metadata": {},
   "outputs": [],
   "source": [
    "x = list(range(0, -5, -1))\n",
    "print(x)"
   ]
  },
  {
   "cell_type": "markdown",
   "metadata": {},
   "source": [
    "We can append values to a list using the `append` method. Methods are like functions, but with a slightly different syntax: instead of writing `append(x,y)` we write `x.append(y)`. Methods provide a way to construct polymorphic interfaces as part of what is know as *object-oriented programming*, but this goes beyond this class.\n",
    "\n",
    "We can see `append` in action like this:"
   ]
  },
  {
   "cell_type": "code",
   "execution_count": null,
   "metadata": {},
   "outputs": [],
   "source": [
    "x = []\n",
    "for i in range(5):\n",
    "    x.append(i)\n",
    "print(x)"
   ]
  },
  {
   "cell_type": "markdown",
   "metadata": {},
   "source": [
    "Instead of appending elements one at a time, we can append an entire sequence using the `extend` method. This can be used both on generator objects like those returned by `range` or by other lists (or sequences in general)."
   ]
  },
  {
   "cell_type": "code",
   "execution_count": null,
   "metadata": {},
   "outputs": [],
   "source": [
    "x = []\n",
    "print(x)\n",
    "x.extend(range(5))\n",
    "print(x)\n",
    "\n",
    "x.extend(x)\n",
    "print(x)"
   ]
  },
  {
   "cell_type": "markdown",
   "metadata": {},
   "source": [
    "The `append` and `extend` methods modify the list we call them on. We can also create new lists by concatenating others. For this, we can use the `+` operator."
   ]
  },
  {
   "cell_type": "code",
   "execution_count": null,
   "metadata": {},
   "outputs": [],
   "source": [
    "x = [1, 2, 3]\n",
    "y = [4, 5, 6]\n",
    "z = x + y\n",
    "\n",
    "print(x)\n",
    "print(y)\n",
    "print(z)"
   ]
  },
  {
   "cell_type": "markdown",
   "metadata": {},
   "source": [
    "## Exercise 1\n",
    "\n",
    "Write a program that builds a list that contains the squared numbers of all the elements in another list. Remember that the expression `x**2` calculates the square of the value referenced in variable `x`."
   ]
  },
  {
   "cell_type": "code",
   "execution_count": null,
   "metadata": {},
   "outputs": [],
   "source": [
    "input_list = list(range(5))\n",
    "output_list = []\n",
    "\n",
    "# Fill `output_list` with the squared values of the valus in `input_list`\n",
    "    \n",
    "print(output_list)"
   ]
  },
  {
   "cell_type": "markdown",
   "metadata": {},
   "source": [
    "## Exercise 2\n",
    "\n",
    "Write a program that, given an input list, computes two new lists: one with the even numbers in the input list and one with the odd numbers."
   ]
  },
  {
   "cell_type": "code",
   "execution_count": null,
   "metadata": {},
   "outputs": [],
   "source": [
    "input_list = list(range(5))\n",
    "even_list = []\n",
    "odd_list = []\n",
    "\n",
    "# Copy the even numbers in `input_list` to `even_list`\n",
    "# and copy the odd numbers in `input_list` to `odd_list`.\n",
    "\n",
    "print(even_list)\n",
    "print(odd_list)"
   ]
  },
  {
   "cell_type": "markdown",
   "metadata": {},
   "source": [
    "## Exercise 3\n",
    "\n",
    "If you have a string, you can split it into a list of substrings at positions that contain a given substring or single character using the `split` method. We haven't seen functions and methods yet, but the code below illustrates how this work by splitting a string at every position where you have a semicolon"
   ]
  },
  {
   "cell_type": "code",
   "execution_count": null,
   "metadata": {},
   "outputs": [],
   "source": [
    "s = '2.2;3.5;1.5'\n",
    "s.split(';')"
   ]
  },
  {
   "cell_type": "markdown",
   "metadata": {},
   "source": [
    "Write a program that takes a string that contains semicolon separated decimal numbers, splits these into a list of the numbers, and then computes the sum of these numbers. Remember you can translate a string form of a decimal number into a floating point number using the function `float`."
   ]
  },
  {
   "cell_type": "code",
   "execution_count": null,
   "metadata": {},
   "outputs": [],
   "source": [
    "s = '2.2;3.5;1.5'\n",
    "result = 0.0\n",
    "\n",
    "# split `s` at semicolons and run through it to add the numbers\n",
    "# together and put the sum in result. For this string, the result\n",
    "# should be 7.2\n",
    "\n",
    "print(result)"
   ]
  },
  {
   "cell_type": "markdown",
   "metadata": {},
   "source": [
    "## Exercise 4\n",
    "\n",
    "\n",
    "Write a program that asks the user to input 10 integers and then print the largest odd number, or \"None\", if there are no odd numbers.\n",
    "\n",
    "You can use the `int(input(\"Give me a number \"))` construction to ask the user for a single number, and you can append to the `numbers` list using `numbers.append(n)`, so the loop body could be\n",
    "\n",
    "```python\n",
    "  n = int(input(\"Give me a number \"))\n",
    "  numbers.append(n)\n",
    "```\n",
    "\n"
   ]
  },
  {
   "cell_type": "code",
   "execution_count": null,
   "metadata": {},
   "outputs": [],
   "source": [
    "numbers = []\n",
    "# Write a loop that asks for a number 10 times\n",
    "\n",
    "result = float(\"-inf\")\n",
    "# now write a loop that updates result to the largest odd number\n",
    "\n",
    "if result == float(\"-inf\"):\n",
    "    print(\"None\")\n",
    "else:\n",
    "    print(result)"
   ]
  },
  {
   "cell_type": "markdown",
   "metadata": {},
   "source": [
    "# List comprehension\n",
    "\n",
    "Yet another way to construct lists is using so-called [*list comprehension*](https://en.wikipedia.org/wiki/List_comprehension). This is a shorthand for constructing new lists as a combination of `for` loops and `if` statements. List comprehension are specified as a `for`-loop like expression inside square brackets."
   ]
  },
  {
   "cell_type": "code",
   "execution_count": null,
   "metadata": {},
   "outputs": [],
   "source": [
    "x = list(range(5))\n",
    "x_squared = [y**2 for y in x]\n",
    "print(x_squared)"
   ]
  },
  {
   "cell_type": "markdown",
   "metadata": {},
   "source": [
    "For any expression of an element `y` from `x`, `expr(y)`, the expression\n",
    "\n",
    "```python\n",
    "z = [expr(y) for y in x]\n",
    "```\n",
    "\n",
    "is equivalent to the `for` loop\n",
    "\n",
    "```python\n",
    "z = []\n",
    "for y in x:\n",
    "    z.append(expr(y))\n",
    "```\n",
    "\n",
    "List comprehension expressions can include a predicate as well, following the `for` expression and specified with an `if` expression. When they do, only elements where the predicate is `True` will be included in the resulting expression. So we can split a list `x` into odd and even numbers like this:"
   ]
  },
  {
   "cell_type": "code",
   "execution_count": 31,
   "metadata": {},
   "outputs": [
    {
     "name": "stdout",
     "output_type": "stream",
     "text": [
      "[0, 2, 4]\n",
      "[1, 3]\n"
     ]
    }
   ],
   "source": [
    "x = list(range(5))\n",
    "even = [y for y in x if y % 2 == 0]\n",
    "odd = [y for y in x if y % 2 == 1]\n",
    "print(even)\n",
    "print(odd)"
   ]
  },
  {
   "cell_type": "code",
   "execution_count": 32,
   "metadata": {},
   "outputs": [
    {
     "name": "stdout",
     "output_type": "stream",
     "text": [
      "[2.2, 3.5, 1.5]\n"
     ]
    }
   ],
   "source": [
    "s = '2.2;3.5;1.5'\n",
    "numbers = [float(n) for n in s.split(';')]\n",
    "print(numbers)"
   ]
  },
  {
   "cell_type": "markdown",
   "metadata": {},
   "source": [
    "## Exercise 5\n",
    "\n",
    "Write a program that computes the square of all the even elements in an input list followed the cube of all the odd elements. You can take the `even` and `odd` computations from above as starting points and then remember that you can concatenate two lists using `+`."
   ]
  },
  {
   "cell_type": "code",
   "execution_count": null,
   "metadata": {},
   "outputs": [],
   "source": [
    "x = list(range(5))\n",
    "# the expression you want with this input list is [0, 4, 16, 1, 27]"
   ]
  },
  {
   "cell_type": "markdown",
   "metadata": {},
   "source": [
    "# Map and filter\n",
    "\n",
    "The function `map` can be used to achieve results very similar to list comprehension. It applies a function over a list (or sequence in general). The other Notebook of exercises takes you through functions, but here I will use anonymous functions defined with `lambda` expressions. A `lambda` expression consists of a sequence of parameters, followed by a colon and then an expression. The result of a `map` expresion is a \"map object\" which is a generator and not a list, similar to the result of `range` expressions. We can translate them into lists using the `list` function.\n",
    "\n",
    "We can square all the values in a list using `map` and `lambda` like this:"
   ]
  },
  {
   "cell_type": "code",
   "execution_count": 21,
   "metadata": {},
   "outputs": [
    {
     "name": "stdout",
     "output_type": "stream",
     "text": [
      "<map object at 0x106c93780>\n",
      "[0, 1, 4, 9, 16]\n"
     ]
    }
   ],
   "source": [
    "x = list(range(5))\n",
    "x_squared = map(lambda y: y**2, x)\n",
    "print(x_squared)\n",
    "x_squared = list(x_squared)\n",
    "print(x_squared)"
   ]
  },
  {
   "cell_type": "markdown",
   "metadata": {},
   "source": [
    "The `map` function doesn't handle predicates for which elements to consider in its output. For that, you need the `filter` function. It creates a \"filter object\", another generator, that we can translate into a list using the `list` function, and we can use it as this:"
   ]
  },
  {
   "cell_type": "code",
   "execution_count": 24,
   "metadata": {},
   "outputs": [
    {
     "name": "stdout",
     "output_type": "stream",
     "text": [
      "[0, 2, 4]\n",
      "[1, 3]\n"
     ]
    }
   ],
   "source": [
    "x = list(range(5))\n",
    "even = list(filter(lambda x: x % 2 == 0, x))\n",
    "odd = list(filter(lambda x: x % 2 == 1, x))\n",
    "print(even)\n",
    "print(odd)"
   ]
  },
  {
   "cell_type": "markdown",
   "metadata": {},
   "source": [
    "You can combine `filter` and `map` by nesting calls, that is, you can `map` over the results of a `filter` call or you can `filter` the result of a `map` call.\n",
    "\n",
    "## Exercise 6\n",
    "\n",
    "Redo exercise 5 but using `filter`, `map` and `lambda` expressions"
   ]
  },
  {
   "cell_type": "code",
   "execution_count": null,
   "metadata": {
    "collapsed": true
   },
   "outputs": [],
   "source": [
    "x = list(range(5))\n",
    "# the expression you want with this input list is [0, 4, 16, 1, 27]"
   ]
  },
  {
   "cell_type": "markdown",
   "metadata": {},
   "source": [
    "With `map` you can also handle more than one list, if the function you use takes more than one parameter. You can provide as many lists as the function takes parameters."
   ]
  },
  {
   "cell_type": "code",
   "execution_count": 19,
   "metadata": {},
   "outputs": [
    {
     "name": "stdout",
     "output_type": "stream",
     "text": [
      "[0, 1, 2, 3, 4]\n",
      "[0, -1, -2, -3, -4]\n"
     ]
    }
   ],
   "source": [
    "xlist = list(range(5))\n",
    "ylist = list(range(0, -5, -1))\n",
    "print(xlist)\n",
    "print(ylist)"
   ]
  },
  {
   "cell_type": "code",
   "execution_count": 20,
   "metadata": {},
   "outputs": [
    {
     "name": "stdout",
     "output_type": "stream",
     "text": [
      "[0, 0, 0, 0, 0]\n"
     ]
    }
   ],
   "source": [
    "zlist = list(map(lambda x, y: x + y, xlist, ylist))\n",
    "print(zlist)"
   ]
  },
  {
   "cell_type": "markdown",
   "metadata": {},
   "source": [
    "You cannot do exactly the same using list comprehension. If you use two or more lists there, you get the outer product of the lists instead"
   ]
  },
  {
   "cell_type": "code",
   "execution_count": 26,
   "metadata": {},
   "outputs": [
    {
     "data": {
      "text/plain": [
       "[(0, 0),\n",
       " (0, -1),\n",
       " (0, -2),\n",
       " (0, -3),\n",
       " (0, -4),\n",
       " (1, 0),\n",
       " (1, -1),\n",
       " (1, -2),\n",
       " (1, -3),\n",
       " (1, -4),\n",
       " (2, 0),\n",
       " (2, -1),\n",
       " (2, -2),\n",
       " (2, -3),\n",
       " (2, -4),\n",
       " (3, 0),\n",
       " (3, -1),\n",
       " (3, -2),\n",
       " (3, -3),\n",
       " (3, -4),\n",
       " (4, 0),\n",
       " (4, -1),\n",
       " (4, -2),\n",
       " (4, -3),\n",
       " (4, -4)]"
      ]
     },
     "execution_count": 26,
     "metadata": {},
     "output_type": "execute_result"
    }
   ],
   "source": [
    "[(x,y) for x in xlist for y in ylist]"
   ]
  },
  {
   "cell_type": "markdown",
   "metadata": {},
   "source": [
    "You can, however, \"zip\" lists to produce tuples with matching elements from the lists:"
   ]
  },
  {
   "cell_type": "code",
   "execution_count": 30,
   "metadata": {},
   "outputs": [
    {
     "data": {
      "text/plain": [
       "[(0, 0), (1, -1), (2, -2), (3, -3), (4, -4)]"
      ]
     },
     "execution_count": 30,
     "metadata": {},
     "output_type": "execute_result"
    }
   ],
   "source": [
    "list(zip(xlist, ylist))"
   ]
  },
  {
   "cell_type": "markdown",
   "metadata": {},
   "source": [
    "Such a list, you can use in list comprehension:"
   ]
  },
  {
   "cell_type": "code",
   "execution_count": 29,
   "metadata": {},
   "outputs": [
    {
     "name": "stdout",
     "output_type": "stream",
     "text": [
      "[0, 0, 0, 0, 0]\n"
     ]
    }
   ],
   "source": [
    "zlist = [x + y for x, y in zip(xlist, ylist)]\n",
    "print(zlist)"
   ]
  },
  {
   "cell_type": "markdown",
   "metadata": {},
   "source": [
    "I generally find list comprehensions much more readable than `map` and `filter` expressions, but that might be a matter of taste. The book uses both, so you needed to see both here, but in general we will be using list comprehension much more"
   ]
  }
 ],
 "metadata": {
  "kernelspec": {
   "display_name": "Python 3",
   "language": "python",
   "name": "python3"
  },
  "language_info": {
   "codemirror_mode": {
    "name": "ipython",
    "version": 3
   },
   "file_extension": ".py",
   "mimetype": "text/x-python",
   "name": "python",
   "nbconvert_exporter": "python",
   "pygments_lexer": "ipython3",
   "version": "3.5.2"
  }
 },
 "nbformat": 4,
 "nbformat_minor": 2
}
