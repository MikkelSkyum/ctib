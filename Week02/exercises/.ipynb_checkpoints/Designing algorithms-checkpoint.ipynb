{
 "cells": [
  {
   "cell_type": "markdown",
   "metadata": {},
   "source": [
    "# Designing algorithms\n",
    "\n"
   ]
  },
  {
   "cell_type": "markdown",
   "metadata": {},
   "source": [
    "In these exercises you get to try to develop some algorithms yourself. Think in terms of invariants and pre- and post-conditions when you develop them."
   ]
  },
  {
   "cell_type": "markdown",
   "metadata": {},
   "source": [
    "## Extract primes\n",
    "\n",
    "For reasons we will not go into, we want to be able to extract all primes from the first `n` integers. We know the smallest is 2, then we have 3 and then 5, and so forth, but say we build a list of all the integers from 2 to `n`, how do we filter away those that are not primes?\n",
    "\n",
    "If we start with the elements `list(range(2,n))`, the first element in the list, 2, is a prime. All those elements `x` in the list where `x % 2 == 0` cannot be primes, so we can get rid of those. If we remove those and 2 we have a new list with 3 at the front. This is also a prime. And all those elements `x` in the new list where `x % 3 == 0` cannot be. We get rid of those and 3. The next element is 5 (because we got rid of 4 earlier when we removed all the values with `x % 2 == 0`). That is also a prime.\n",
    "\n",
    "Think about these properties and come up with invariants that you can use to filter away all the elements that are not primes. Use this to develop an algorithm for extracting the primes from the first `n` algorithms."
   ]
  },
  {
   "cell_type": "code",
   "execution_count": 3,
   "metadata": {},
   "outputs": [
    {
     "name": "stdout",
     "output_type": "stream",
     "text": [
      "[2, 3, 5, 7]\n"
     ]
    }
   ],
   "source": [
    "def eratosthenes(n):\n",
    "    primes = []\n",
    "    candidates = list(range(2, n))\n",
    "    # move the primes to `primes` and get rid of the rest.\n",
    "    return primes\n",
    "\n",
    "primes = eratosthenes(10)\n",
    "print(primes) # should be [2, 3, 5, 7]"
   ]
  },
  {
   "cell_type": "markdown",
   "metadata": {},
   "source": [
    "I have called the function `eratosthenes` because the algorithm, if you have done it correctly, is one that is known as the Sieve of Eratosthenes, named after the ancient greek mathematician [Eratosthenes of Cyrene](https://en.wikipedia.org/wiki/Eratosthenes)"
   ]
  },
  {
   "cell_type": "markdown",
   "metadata": {},
   "source": [
    "## Binary numbers\n",
    "\n",
    "Assume that we represent numbers as lists of positions of ones in a binary representation (and sorted positions at that). That is, we would represent numbers as this:\n",
    "\n",
    "Decimal | Binary | List representation\n",
    "--------|--------|------------------\n",
    "0       | 0000   | `[]`\n",
    "1       | 0001   | `[0]`\n",
    "2       | 0010   | `[1]`\n",
    "3       | 0011   | `[0, 1]`\n",
    "4       | 0100   | `[2]`\n",
    "5       | 0101   | `[0, 2]`\n",
    "6       | 0110   | `[1, 2]`\n",
    "7       | 0111   | `[0, 1, 2]`\n",
    "8       | 1000   | `[3]`\n",
    "9       | 1001   | `[0, 3]`\n",
    "10      | 1010   | `[1, 3]`\n",
    "\n",
    "We index the one bits from zero, which makes the translation from this representation into the integer numbers in Python relatively straightforward:"
   ]
  },
  {
   "cell_type": "code",
   "execution_count": 5,
   "metadata": {},
   "outputs": [
    {
     "name": "stdout",
     "output_type": "stream",
     "text": [
      "0\n",
      "1\n",
      "2\n",
      "3\n"
     ]
    }
   ],
   "source": [
    "def binary_to_int(bin_rep):\n",
    "    return sum(2**i for i in bin_rep)\n",
    "\n",
    "print(binary_to_int([]))\n",
    "print(binary_to_int([0]))\n",
    "print(binary_to_int([1]))\n",
    "print(binary_to_int([0, 1]))"
   ]
  },
  {
   "cell_type": "markdown",
   "metadata": {},
   "source": [
    "For translating integers to this binary representation, the reverse of the function above, you can consider how you would see if bit 0 should be included or not by taking the modulus two of a number."
   ]
  },
  {
   "cell_type": "code",
   "execution_count": 6,
   "metadata": {},
   "outputs": [
    {
     "name": "stdout",
     "output_type": "stream",
     "text": [
      "For 0 should bit 0 be included? False\n",
      "For 1 should bit 0 be included? True\n",
      "For 2 should bit 0 be included? False\n",
      "For 3 should bit 0 be included? True\n",
      "For 4 should bit 0 be included? False\n"
     ]
    }
   ],
   "source": [
    "for n in range(5):\n",
    "    print('For', n, 'should bit 0 be included?', n % 2 == 1)"
   ]
  },
  {
   "cell_type": "markdown",
   "metadata": {},
   "source": [
    "If we, after checking if bit zero should be included, divide the number by two, we can consider this as if we are moving to bit one, and we can check if this bit should be included by taking modulus 2 again. We need to use integer division, `//`, here, though, to avoid translating the number into a float."
   ]
  },
  {
   "cell_type": "code",
   "execution_count": 8,
   "metadata": {},
   "outputs": [
    {
     "name": "stdout",
     "output_type": "stream",
     "text": [
      "[0, 1, 1, 0]\n",
      "[1, 2]\n"
     ]
    }
   ],
   "source": [
    "n = 6\n",
    "bit0 = 1 if n % 2 == 1 else 0\n",
    "bit1 = 1 if (n // 2) % 2 == 1 else 0\n",
    "bit2 = 1 if (n // 2 // 2) % 2 == 1 else 0\n",
    "bit3 = 1 if (n // 2 // 2 // 2) % 2 == 1 else 0\n",
    "bits = [bit0, bit1, bit2, bit3]\n",
    "print(bits)\n",
    "\n",
    "representation = [i for i, b in enumerate(bits) if b]\n",
    "print(representation)"
   ]
  },
  {
   "cell_type": "markdown",
   "metadata": {},
   "source": [
    "You saw the `enumerate` function in the list exercises, but you haven't seen the\n",
    "\n",
    "```python\n",
    "value_true if boolean_expression else value_false\n",
    "```\n",
    "\n",
    "construction before. From the example, can you figure out what this langauge construction does?"
   ]
  },
  {
   "cell_type": "markdown",
   "metadata": {},
   "source": [
    "Construct an algorithm that takes a number `n` as an integer and translate it into this binary representation. One approach you can take here is to keep track of which conceptual index you are working with--initially this will be index 0--and then include it or not based on the modulus test and move one index up while dividing the number by two. If the number becomes zero, you are done.\n",
    "\n",
    "Add invariants and the final parts of the implementation to the function below."
   ]
  },
  {
   "cell_type": "code",
   "execution_count": 9,
   "metadata": {},
   "outputs": [
    {
     "name": "stdout",
     "output_type": "stream",
     "text": [
      "0 [] 0\n",
      "1 [0] 1\n",
      "2 [1] 2\n",
      "3 [0, 1] 3\n",
      "4 [2] 4\n",
      "5 [0, 2] 5\n",
      "6 [1, 2] 6\n",
      "7 [0, 1, 2] 7\n",
      "8 [3] 8\n",
      "9 [0, 3] 9\n"
     ]
    }
   ],
   "source": [
    "def int_to_binary(n):\n",
    "    index = 0\n",
    "    one_bits = []\n",
    "    while n > 0:\n",
    "        # fill in this part\n",
    "    return one_bits\n",
    "\n",
    "for n in range(10):\n",
    "    print(n, int_to_binary(n), binary_to_int(int_to_binary(n)))"
   ]
  },
  {
   "cell_type": "markdown",
   "metadata": {},
   "source": [
    "## Incrementing binary numbers\n",
    "\n",
    "Incrementing numbers represented as lists as above is an interesting problem. If we want to add 1 to `n` we can consider the first one bit in the representation of `n`. If we do not have index zero set in this representation, we can prepend 0 to the representation and we are done. If it *does* have the zero bit set, we need to remove it--we are adding two one bits together and get `01 + 01 = 10` so we should remove bit zero and instead try and 2 to the result of removing bit zero from `n`. \n",
    "\n",
    "```\n",
    "  0010111\n",
    "+ 0000001\n",
    "= 0010110\n",
    "+ 0000010\n",
    "= 0010100\n",
    "+ 0000100\n",
    "= 0010000\n",
    "+ 0001000\n",
    "= 0011000\n",
    "```\n",
    "\n",
    "We do not want to actually remove elements in the list representation of `n`--this would require us to copy the list repeatedly--but the one bits that should be included in the result of an increment are a suffix of the list, so we want to figure out what that suffix is and prepend the carry bit to that.\n",
    "\n",
    "Come up with invariants and construct an algorithm for the incrementation function."
   ]
  },
  {
   "cell_type": "code",
   "execution_count": 14,
   "metadata": {},
   "outputs": [
    {
     "name": "stdout",
     "output_type": "stream",
     "text": [
      "[]\n",
      "[0]\n",
      "[1]\n",
      "[0, 1]\n",
      "[2]\n",
      "[0, 2]\n",
      "[1, 2]\n",
      "[0, 1, 2]\n",
      "[3]\n",
      "[0, 3]\n"
     ]
    }
   ],
   "source": [
    "def increment_binary(bits):\n",
    "    carry, i = 0, 0\n",
    "    # Invariant: carry is the bit we try to carry\n",
    "    # Invariant: i is an index into bits we have as the candidate start for the suffix we should include\n",
    "    while i < len(bits):\n",
    "        # fill out this bit.\n",
    "        pass\n",
    "    return [carry] + bits[i:]\n",
    "\n",
    "n = int_to_binary(0)\n",
    "\n",
    "for i in range(10):\n",
    "    print(n)\n",
    "    n = increment_binary(n)"
   ]
  },
  {
   "cell_type": "markdown",
   "metadata": {},
   "source": [
    "What is the worst-case complexity of increasing a number `n` as a function of `n`?\n",
    "\n",
    "Would you be surprised to learn that it takes $O(n)$ operations to count to `n` this way? That means that the *average* number of instructions for this function, if you increment from 0 to `n`, is in $O(1)$. The worst-case to increment an arbitrary `n` is worse that this."
   ]
  }
 ],
 "metadata": {
  "kernelspec": {
   "display_name": "Python 3",
   "language": "python",
   "name": "python3"
  },
  "language_info": {
   "codemirror_mode": {
    "name": "ipython",
    "version": 3
   },
   "file_extension": ".py",
   "mimetype": "text/x-python",
   "name": "python",
   "nbconvert_exporter": "python",
   "pygments_lexer": "ipython3",
   "version": "3.5.2"
  }
 },
 "nbformat": 4,
 "nbformat_minor": 2
}
