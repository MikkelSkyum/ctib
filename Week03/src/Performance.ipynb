{
 "cells": [
  {
   "cell_type": "markdown",
   "metadata": {},
   "source": [
    "# Functions to evaluate"
   ]
  },
  {
   "cell_type": "markdown",
   "metadata": {},
   "source": [
    "Linear and binary (logarithmic) search functions."
   ]
  },
  {
   "cell_type": "code",
   "execution_count": 1,
   "metadata": {
    "collapsed": true
   },
   "outputs": [],
   "source": [
    "def linear_search(x, lst):\n",
    "    for y in lst:\n",
    "        if x == y:\n",
    "            return True\n",
    "    return False"
   ]
  },
  {
   "cell_type": "code",
   "execution_count": 2,
   "metadata": {
    "collapsed": true
   },
   "outputs": [],
   "source": [
    "def binary_search(x, lst):\n",
    "    def recurse(start, end):\n",
    "        # Inv: start <= end and x might be in lst[start:end].\n",
    "        if start == end:\n",
    "            return False\n",
    "        i = start + (end - start) // 2\n",
    "        if lst[i] == x:\n",
    "            return True\n",
    "        # Inv: start < end\t\n",
    "        elif lst[i] < x:\n",
    "            return recurse(i, end)\n",
    "        else:\n",
    "            return recurse(start, i)\n",
    "    return recurse(0, len(lst))"
   ]
  },
  {
   "cell_type": "markdown",
   "metadata": {},
   "source": [
    "# Function for evaluting the running time of a function"
   ]
  },
  {
   "cell_type": "markdown",
   "metadata": {},
   "source": [
    "The following function wraps a search function and returns another function that, given a size *n* will create a list of that size, search for a random element in it, and return how long it took to do the search."
   ]
  },
  {
   "cell_type": "code",
   "execution_count": 3,
   "metadata": {
    "collapsed": true
   },
   "outputs": [],
   "source": [
    "from time import process_time\n",
    "from random import randint\n",
    "\n",
    "def timer(f):\n",
    "    def evaluator(n):\n",
    "        lst = list(range(n))\n",
    "        x = randint(0, n - 1)\n",
    "        start = process_time()\n",
    "        f(x, lst)\n",
    "        end = process_time()\n",
    "        return end - start\n",
    "    return evaluator"
   ]
  },
  {
   "cell_type": "markdown",
   "metadata": {},
   "source": [
    "We can then use this function to make timers for the search functions."
   ]
  },
  {
   "cell_type": "code",
   "execution_count": 4,
   "metadata": {
    "collapsed": true
   },
   "outputs": [],
   "source": [
    "linear_search_timer = timer(linear_search)\n",
    "binary_search_timer = timer(binary_search)"
   ]
  },
  {
   "cell_type": "markdown",
   "metadata": {},
   "source": [
    "For our experiments we want a range of list sizes, and because there is some stochasticity in how long a search takes---it will depend on how fast the element is found, which in particular can vary for linear search, we will perform several searches per size."
   ]
  },
  {
   "cell_type": "code",
   "execution_count": 5,
   "metadata": {
    "collapsed": true
   },
   "outputs": [],
   "source": [
    "from numpy import repeat, array\n",
    "\n",
    "ns = array(range(1000,11000,1000))\n",
    "repeated_ns = repeat(ns, 10)"
   ]
  },
  {
   "cell_type": "code",
   "execution_count": 6,
   "metadata": {
    "collapsed": true
   },
   "outputs": [],
   "source": [
    "linear_search_times = array([linear_search_timer(n) for n in repeated_ns])"
   ]
  },
  {
   "cell_type": "code",
   "execution_count": 7,
   "metadata": {
    "collapsed": true
   },
   "outputs": [],
   "source": [
    "binary_search_times = array([binary_search_timer(n) for n in repeated_ns])"
   ]
  },
  {
   "cell_type": "markdown",
   "metadata": {},
   "source": [
    "# Plotting the results"
   ]
  },
  {
   "cell_type": "markdown",
   "metadata": {},
   "source": [
    "First we just import some modules we need for plotting and we define some colours we can reuse for the linear and the binary search experiments."
   ]
  },
  {
   "cell_type": "code",
   "execution_count": 8,
   "metadata": {
    "collapsed": true
   },
   "outputs": [],
   "source": [
    "%matplotlib inline \n",
    "import matplotlib.pyplot as plt\n",
    "import seaborn as sns\n",
    "\n",
    "linear_color = sns.xkcd_rgb[\"amber\"]\n",
    "binary_color = sns.xkcd_rgb[\"faded green\"]"
   ]
  },
  {
   "cell_type": "markdown",
   "metadata": {},
   "source": [
    "The results are easier to evaluate if we add fitted curves to them. This function fits a line to data points."
   ]
  },
  {
   "cell_type": "code",
   "execution_count": 9,
   "metadata": {
    "collapsed": true
   },
   "outputs": [],
   "source": [
    "from pylab import polyfit\n",
    "def fit_line(x, y):\n",
    "    return polyfit(x, y, 1)"
   ]
  },
  {
   "cell_type": "markdown",
   "metadata": {},
   "source": [
    "We can now try to plot our time experiments together with best fitted lines through the data points."
   ]
  },
  {
   "cell_type": "code",
   "execution_count": 10,
   "metadata": {
    "collapsed": false
   },
   "outputs": [
    {
     "data": {
      "text/plain": [
       "[<matplotlib.lines.Line2D at 0x113dd5f98>]"
      ]
     },
     "execution_count": 10,
     "metadata": {},
     "output_type": "execute_result"
    },
    {
     "data": {
      "image/png": "[encoded data removed]",
      "text/plain": [
       "<matplotlib.figure.Figure at 0x110a5bdd8>"
      ]
     },
     "metadata": {},
     "output_type": "display_data"
    }
   ],
   "source": [
    "plt.plot(repeated_ns, linear_search_times, 'o', color=linear_color)\n",
    "plt.plot(repeated_ns, binary_search_times, 'o', color=binary_color)\n",
    "\n",
    "a,b = fit_line(repeated_ns, linear_search_times)\n",
    "plt.plot(repeated_ns, a*repeated_ns + b, color=linear_color, lw=3)\n",
    "a,b = fit_line(repeated_ns, binary_search_times)\n",
    "plt.plot(repeated_ns, a*repeated_ns + b, color=binary_color, lw=3)"
   ]
  },
  {
   "cell_type": "markdown",
   "metadata": {},
   "source": [
    "It can be very hard to determine if such time experiments actually demonstrate that the runnig time is what we expect. It is possible to throw statistics at this, but a very simple trick is just to divide the running time with the expected asymptotic running time. If we have the right running time, the data points should then flatten out around a horizontal line.\n",
    "\n",
    "For the linear search, we would expect the time points dividied by the list length to flatten out horizontally."
   ]
  },
  {
   "cell_type": "code",
   "execution_count": 11,
   "metadata": {
    "collapsed": false
   },
   "outputs": [
    {
     "data": {
      "text/plain": [
       "[<matplotlib.lines.Line2D at 0x113e32a58>]"
      ]
     },
     "execution_count": 11,
     "metadata": {},
     "output_type": "execute_result"
    },
    {
     "data": {
      "image/png": "[encoded data removed]",
      "text/plain": [
       "<matplotlib.figure.Figure at 0x110a5b940>"
      ]
     },
     "metadata": {},
     "output_type": "display_data"
    }
   ],
   "source": [
    "x, y = repeated_ns, linear_search_times / repeated_ns\n",
    "plt.plot(x, y, 'o', color=linear_color)\n",
    "\n",
    "a,b = fit_line(x, y)\n",
    "plt.plot(x, a*x + b, color=linear_color, lw=3)"
   ]
  },
  {
   "cell_type": "markdown",
   "metadata": {},
   "source": [
    "If we divide the running time by the logarithm of the list length, on the other hand, we would *not* expect to see the linear search time flatten out as a horizontal line. After all, we expect this search to be asymptotically slower than logarithm."
   ]
  },
  {
   "cell_type": "code",
   "execution_count": 12,
   "metadata": {
    "collapsed": false
   },
   "outputs": [
    {
     "data": {
      "text/plain": [
       "[<matplotlib.lines.Line2D at 0x113eb96d8>]"
      ]
     },
     "execution_count": 12,
     "metadata": {},
     "output_type": "execute_result"
    },
    {
     "data": {
      "image/png": "[encoded data removed]",
      "text/plain": [
       "<matplotlib.figure.Figure at 0x113eb97f0>"
      ]
     },
     "metadata": {},
     "output_type": "display_data"
    }
   ],
   "source": [
    "from numpy import log\n",
    "x, y = repeated_ns, linear_search_times / log(repeated_ns)\n",
    "plt.plot(x, y, 'o', color=linear_color)\n",
    "\n",
    "a,b = fit_line(x, y)\n",
    "plt.plot(x, a*x + b, color=linear_color, lw=3)"
   ]
  },
  {
   "cell_type": "markdown",
   "metadata": {},
   "source": [
    "We would, on the other hand, expect that the binary search time would flatten out as a horizontal line if we divide the running time by log(n)."
   ]
  },
  {
   "cell_type": "code",
   "execution_count": 13,
   "metadata": {
    "collapsed": false
   },
   "outputs": [
    {
     "data": {
      "text/plain": [
       "[<matplotlib.lines.Line2D at 0x1142ccef0>]"
      ]
     },
     "execution_count": 13,
     "metadata": {},
     "output_type": "execute_result"
    },
    {
     "data": {
      "image/png": "[encoded data removed]",
      "text/plain": [
       "<matplotlib.figure.Figure at 0x11408a6d8>"
      ]
     },
     "metadata": {},
     "output_type": "display_data"
    }
   ],
   "source": [
    "x, y = repeated_ns, binary_search_times / log(repeated_ns)\n",
    "plt.plot(x, y, 'o', color=binary_color)\n",
    "\n",
    "a,b = fit_line(x, y)\n",
    "plt.plot(x, a*x + b, color=binary_color, lw=3)"
   ]
  }
 ],
 "metadata": {
  "anaconda-cloud": {},
  "kernelspec": {
   "display_name": "Python [Py35]",
   "language": "python",
   "name": "Python [Py35]"
  },
  "language_info": {
   "codemirror_mode": {
    "name": "ipython",
    "version": 3
   },
   "file_extension": ".py",
   "mimetype": "text/x-python",
   "name": "python",
   "nbconvert_exporter": "python",
   "pygments_lexer": "ipython3",
   "version": "3.5.2"
  }
 },
 "nbformat": 4,
 "nbformat_minor": 1
}
