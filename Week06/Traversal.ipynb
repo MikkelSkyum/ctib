{
 "cells": [
  {
   "cell_type": "markdown",
   "metadata": {},
   "source": [
    "# Traversal of graphs\n",
    "\n",
    "A lot of graph algorithms involve traversing the graph structure. This can be done recursively, but unlike the case with trees, there is not necessarily a natural basis case. Trees have leaves but graphs do not necessarily have that. Graphs can have cyclic structure, so a simple recursion will not work. Instead, we need to keep track of which nodes we have already seen during the traversal, so we only process those we haven't yet processed. A depth first traversal, where we keep track of the nodes we have seen in a list, could look like this:"
   ]
  },
  {
   "cell_type": "code",
   "execution_count": 1,
   "metadata": {
    "collapsed": true
   },
   "outputs": [],
   "source": [
    "def depth_first_traversal(graph, v, f, seen = None):\n",
    "    if seen is None: seen = []\n",
    "    seen.append(v)\n",
    "    for w in graph[v]:\n",
    "        if w not in seen:\n",
    "            depth_first_traversal(graph, w, f, seen)\n",
    "    f(v)"
   ]
  },
  {
   "cell_type": "markdown",
   "metadata": {},
   "source": [
    "Here, the `seen = None` is a way to provide a default value to `seen`. If `seen` is `None`, we create an empty list. Don't try to initialise `seen` with the empty list as a default parameter, `seen = []`. This would make the default value *the same* for all calls where the `seen` parameter is not provided--this would give us a full set when we expected an empty one."
   ]
  },
  {
   "cell_type": "code",
   "execution_count": 2,
   "metadata": {
    "collapsed": true
   },
   "outputs": [],
   "source": [
    "def make_list_graph(n_vertices):\n",
    "    return [[] for _ in range(n_vertices)]\n",
    "    \n",
    "def add_list_edge(graph, source, target):\n",
    "    if target not in graph[source]:\n",
    "        graph[source].append(target)"
   ]
  },
  {
   "cell_type": "code",
   "execution_count": 3,
   "metadata": {},
   "outputs": [
    {
     "name": "stdout",
     "output_type": "stream",
     "text": [
      "[[1, 5], [2, 3], [4], [5], [], [1]]\n"
     ]
    }
   ],
   "source": [
    "g = make_list_graph(6)\n",
    "\n",
    "add_list_edge(g, 0, 1)\n",
    "add_list_edge(g, 0, 5)\n",
    "add_list_edge(g, 1, 2)\n",
    "add_list_edge(g, 1, 3)\n",
    "add_list_edge(g, 2, 4)\n",
    "add_list_edge(g, 3, 5)\n",
    "add_list_edge(g, 5, 1)\n",
    "\n",
    "print(g)"
   ]
  },
  {
   "cell_type": "code",
   "execution_count": 4,
   "metadata": {},
   "outputs": [
    {
     "name": "stdout",
     "output_type": "stream",
     "text": [
      "4\n",
      "2\n",
      "5\n",
      "3\n",
      "1\n",
      "0\n"
     ]
    }
   ],
   "source": [
    "depth_first_traversal(g, 0, print)"
   ]
  },
  {
   "cell_type": "markdown",
   "metadata": {},
   "source": [
    "Testing for membership in a list, however, is a linear time operation, so we want to avoid this. One approach would be to use Python's built-in `set` data structure instead."
   ]
  },
  {
   "cell_type": "code",
   "execution_count": 5,
   "metadata": {},
   "outputs": [],
   "source": [
    "def depth_first_traversal_set(graph, v, f, seen = None):\n",
    "    if seen is None: seen = set()\n",
    "    seen.add(v)\n",
    "    for w in graph[v]:\n",
    "        if w not in seen:\n",
    "            depth_first_traversal_set(graph, w, f, seen)\n",
    "    f(v)"
   ]
  },
  {
   "cell_type": "markdown",
   "metadata": {},
   "source": [
    "We can also be more explicit with the set we represent by using a boolean/bit vector for the `seen` data structure. Then, we can set indices to `True` or `False` depending on whether we have seen them."
   ]
  },
  {
   "cell_type": "code",
   "execution_count": 6,
   "metadata": {
    "collapsed": true
   },
   "outputs": [],
   "source": [
    "def depth_first_traversal_bv(graph, v, f, seen = None):\n",
    "    if seen is None:\n",
    "        seen = [False] * len(graph)\n",
    "        \n",
    "    seen[v] = True\n",
    "    for w in graph[v]:\n",
    "        if not seen[w]:\n",
    "            depth_first_traversal_bv(graph, w, f, seen)\n",
    "    f(v)"
   ]
  },
  {
   "cell_type": "markdown",
   "metadata": {},
   "source": [
    "Except for the different data structure, the flow of the traversal is the same as the previous two implementations."
   ]
  },
  {
   "cell_type": "code",
   "execution_count": 7,
   "metadata": {},
   "outputs": [
    {
     "name": "stdout",
     "output_type": "stream",
     "text": [
      "bit vector\n",
      "4\n",
      "2\n",
      "5\n",
      "3\n",
      "1\n",
      "0\n",
      "\n",
      "set\n",
      "4\n",
      "2\n",
      "5\n",
      "3\n",
      "1\n",
      "0\n"
     ]
    }
   ],
   "source": [
    "print(\"bit vector\")\n",
    "depth_first_traversal_bv(g, 0, print)\n",
    "print(\"\\nset\")\n",
    "depth_first_traversal_set(g, 0, print)"
   ]
  },
  {
   "cell_type": "markdown",
   "metadata": {},
   "source": [
    "For the small graph we have traversed so far, there isn't much difference between the different implementations. It doesn't matter if the search take linear time if we have six nodes at most."
   ]
  },
  {
   "cell_type": "code",
   "execution_count": 8,
   "metadata": {},
   "outputs": [
    {
     "name": "stdout",
     "output_type": "stream",
     "text": [
      "2.35 µs ± 24.2 ns per loop (mean ± std. dev. of 7 runs, 100000 loops each)\n",
      "2.02 µs ± 28.2 ns per loop (mean ± std. dev. of 7 runs, 100000 loops each)\n",
      "2.18 µs ± 38.4 ns per loop (mean ± std. dev. of 7 runs, 100000 loops each)\n"
     ]
    }
   ],
   "source": [
    "def do_nothing(v):\n",
    "    pass\n",
    "\n",
    "%timeit depth_first_traversal(g, 0, do_nothing)\n",
    "%timeit depth_first_traversal_bv(g, 0, do_nothing)\n",
    "%timeit depth_first_traversal_set(g, 0, do_nothing)"
   ]
  },
  {
   "cell_type": "markdown",
   "metadata": {},
   "source": [
    "For a larger graph, however, we see that the linear time membership test makes the list implementation substantially slower than the other two. The bit-vector implementation is somewhat faster than the set implementation."
   ]
  },
  {
   "cell_type": "code",
   "execution_count": 11,
   "metadata": {},
   "outputs": [
    {
     "name": "stdout",
     "output_type": "stream",
     "text": [
      "419 ms ± 19.2 ms per loop (mean ± std. dev. of 7 runs, 1 loop each)\n",
      "3.71 ms ± 78.4 µs per loop (mean ± std. dev. of 7 runs, 100 loops each)\n",
      "2.22 ms ± 39.6 µs per loop (mean ± std. dev. of 7 runs, 100 loops each)\n"
     ]
    }
   ],
   "source": [
    "import numpy as np\n",
    "\n",
    "def make_random_graph(n, k):\n",
    "    graph = make_list_graph(n)\n",
    "    for i in range(n):\n",
    "        for j in np.random.choice(n, size = k):\n",
    "            add_list_edge(graph, i, j)\n",
    "    return graph        \n",
    "\n",
    "rg = make_random_graph(1000, 50)\n",
    "\n",
    "%timeit depth_first_traversal(rg, 0, do_nothing)\n",
    "%timeit depth_first_traversal_set(rg, 0, do_nothing)\n",
    "%timeit depth_first_traversal_bv(rg, 0, do_nothing)"
   ]
  },
  {
   "cell_type": "markdown",
   "metadata": {},
   "source": [
    "## Exercises\n"
   ]
  },
  {
   "cell_type": "code",
   "execution_count": null,
   "metadata": {
    "collapsed": true
   },
   "outputs": [],
   "source": []
  }
 ],
 "metadata": {
  "kernelspec": {
   "display_name": "Python 3",
   "language": "python",
   "name": "python3"
  },
  "language_info": {
   "codemirror_mode": {
    "name": "ipython",
    "version": 3
   },
   "file_extension": ".py",
   "mimetype": "text/x-python",
   "name": "python",
   "nbconvert_exporter": "python",
   "pygments_lexer": "ipython3",
   "version": "3.5.2"
  }
 },
 "nbformat": 4,
 "nbformat_minor": 2
}
