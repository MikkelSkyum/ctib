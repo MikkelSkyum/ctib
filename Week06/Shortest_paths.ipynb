{
 "cells": [
  {
   "cell_type": "code",
   "execution_count": 27,
   "metadata": {},
   "outputs": [
    {
     "name": "stdout",
     "output_type": "stream",
     "text": [
      "[[], [], [], [], [], []]\n",
      "[[1, 5], [2, 3], [4], [5], [], [1]]\n"
     ]
    }
   ],
   "source": [
    "def make_graph(n_vertices):\n",
    "    return [[] for _ in range(n_vertices+1)]\n",
    "    \n",
    "def add_edge(graph, source, target):\n",
    "    if target not in graph[source]:\n",
    "        graph[source].append(target)\n",
    "        \n",
    "g = make_graph(5)\n",
    "print(g)\n",
    "\n",
    "add_edge(g, 0, 1)\n",
    "add_edge(g, 0, 5)\n",
    "add_edge(g, 1, 2)\n",
    "add_edge(g, 1, 3)\n",
    "add_edge(g, 2, 4)\n",
    "add_edge(g, 3, 5)\n",
    "add_edge(g, 5, 1)\n",
    "\n",
    "\n",
    "print(g)"
   ]
  },
  {
   "cell_type": "code",
   "execution_count": 35,
   "metadata": {},
   "outputs": [
    {
     "name": "stdout",
     "output_type": "stream",
     "text": [
      "[0, 1, 2, 4]\n",
      "[0, 5]\n"
     ]
    }
   ],
   "source": [
    "def dfs(graph, v, t, current_path, on_path, shortest_ref):\n",
    "    if v == t:\n",
    "        shortest = shortest_ref[0]\n",
    "        if shortest is None or len(current_path) < len(shortest):\n",
    "            shortest_ref[0] = current_path[:]\n",
    "    else:\n",
    "        for w in graph[v]:\n",
    "            if not on_path[w]:\n",
    "                current_path.append(w)\n",
    "                on_path[w] = True\n",
    "                dfs(graph, w, t, current_path, on_path, shortest_ref)\n",
    "                current_path.pop()\n",
    "                on_path[w] = False\n",
    "    \n",
    "\n",
    "def dfs_path(graph, s, t):\n",
    "    shortest_ref = [None]\n",
    "    on_path = [False] * len(graph)\n",
    "    current_path = [s]\n",
    "    on_path[s] = True\n",
    "    dfs(graph, s, t, current_path, on_path, shortest_ref)\n",
    "    return shortest_ref[0]\n",
    "\n",
    "print(dfs_path(g, 0, 4))\n",
    "print(dfs_path(g, 0, 5))"
   ]
  },
  {
   "cell_type": "code",
   "execution_count": 23,
   "metadata": {},
   "outputs": [
    {
     "name": "stdout",
     "output_type": "stream",
     "text": [
      "[0, 1, 2, 2, 3, 1]\n"
     ]
    }
   ],
   "source": [
    "def argmin_seen(dist, seen, processed):\n",
    "    v, d = None, float(\"Inf\")\n",
    "    for i, dd in enumerate(dist):\n",
    "        if seen[i] and not processed[i] and dd < d:\n",
    "            v, d = i, dd\n",
    "    return v\n",
    "\n",
    "def dijkstra(graph, s):\n",
    "    seen = [False] * len(graph)\n",
    "    processed = [False] * len(graph)\n",
    "    dist = [float(\"Inf\")] * len(graph)\n",
    "    \n",
    "    dist[s] = 0\n",
    "    seen[s] = True\n",
    "    v = argmin_seen(dist, seen, processed)\n",
    "    while v is not None:\n",
    "        for w in graph[v]:\n",
    "            if not processed[w]:\n",
    "                dist[w] = min(dist[w], dist[v] + 1)\n",
    "                seen[w] = True\n",
    "        processed[v] = True\n",
    "        v = argmin_seen(dist, seen, processed)\n",
    "    \n",
    "    return dist\n",
    "    \n",
    "dist = dijkstra(g, 0)\n",
    "print(dist)"
   ]
  },
  {
   "cell_type": "code",
   "execution_count": 26,
   "metadata": {},
   "outputs": [
    {
     "name": "stdout",
     "output_type": "stream",
     "text": [
      "[[], [0, 5], [1], [1], [2], [0, 3]]\n",
      "[0, 1, 2, 4]\n",
      "[0, 5]\n"
     ]
    }
   ],
   "source": [
    "def reverse_graph(graph):\n",
    "    reverse = make_graph(len(graph)-1)\n",
    "    for v in range(len(graph)):\n",
    "        for w in graph[v]:\n",
    "            add_edge(reverse, w, v)\n",
    "    return reverse\n",
    "\n",
    "def back_track(graph, dist, s, t):\n",
    "    reverse = reverse_graph(graph)\n",
    "    reverse_path = [t]\n",
    "    v = t\n",
    "    while v != s:\n",
    "        for w in reverse[v]:\n",
    "            if dist[v] == dist[w] + 1:\n",
    "                reverse_path.append(w)\n",
    "                v = w\n",
    "                break\n",
    "    return list(reversed(reverse_path))\n",
    "\n",
    "print(reverse_graph(g))\n",
    "print(back_track(g, dist, 0, 4))\n",
    "print(back_track(g, dist, 0, 5))"
   ]
  },
  {
   "cell_type": "code",
   "execution_count": null,
   "metadata": {
    "collapsed": true
   },
   "outputs": [],
   "source": []
  }
 ],
 "metadata": {
  "kernelspec": {
   "display_name": "Python 3",
   "language": "python",
   "name": "python3"
  },
  "language_info": {
   "codemirror_mode": {
    "name": "ipython",
    "version": 3
   },
   "file_extension": ".py",
   "mimetype": "text/x-python",
   "name": "python",
   "nbconvert_exporter": "python",
   "pygments_lexer": "ipython3",
   "version": "3.5.2"
  }
 },
 "nbformat": 4,
 "nbformat_minor": 2
}
